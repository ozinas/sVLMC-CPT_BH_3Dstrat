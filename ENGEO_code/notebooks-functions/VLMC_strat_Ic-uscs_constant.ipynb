{
 "cells": [
  {
   "cell_type": "code",
   "execution_count": 1,
   "id": "03815489-5aa4-4123-b67d-c517599ab5c4",
   "metadata": {},
   "outputs": [],
   "source": [
    "# =============================================================================\n",
    "# Import Libraries and functions\n",
    "# =============================================================================\n",
    "from Data_preparation import data_processing_with_BH_scaled\n",
    "import numpy as np\n",
    "import torch\n",
    "import gpytorch\n",
    "import os\n",
    "from gpytorch.mlls import ExactMarginalLogLikelihood \n",
    "import cloudpickle\n",
    "from glob import glob\n",
    "from scipy.special import eval_sh_legendre\n",
    "from torch.optim import Adam\n",
    "from gpytorch.kernels.keops import MaternKernel\n",
    "from gpytorch.kernels import ScaleKernel, ProductKernel\n",
    "from gpytorch.likelihoods.gaussian_likelihood import FixedNoiseGaussianLikelihood\n",
    "from scipy.stats import entropy\n",
    "import tqdm\n",
    "import matplotlib.pyplot as plt\n",
    "from gpytorch.means.mean import Mean\n",
    "from torch import Tensor\n",
    "from botorch.models.utils.inducing_point_allocators import (GreedyVarianceReduction, \n",
    "                                                            InducingPointAllocator)\n",
    "%matplotlib inline\n",
    "\n",
    "cwd = os.getcwd()\n",
    "plots_folder = cwd\n",
    "# use a GPU if available\n",
    "device = torch.device(\"cuda\" if torch.cuda.is_available() else \"cpu\")\n",
    "dtype = torch.float32  # possible numerical instabilities are solved by adding a jitter; reset to float64 for double precision (slower)\n",
    "\n",
    "plots_folder = glob(\"..\\\\Plots\\\\\")[0]\n",
    "pickles_folder = glob(\"..\\\\Pickles\\\\\")[0]\n",
    "\n",
    "\n",
    "def Pickle_file(folder, filename, data):\n",
    "    with open(folder + filename + '.pkl', mode='wb') as file:\n",
    "        cloudpickle.dump(data, file)\n",
    "        \n",
    "def Unpickle_file(folder,filename):\n",
    "    with open(folder+ filename + '.pkl', mode='rb') as file:\n",
    "        data = cloudpickle.load(file)\n",
    "    return data"
   ]
  },
  {
   "cell_type": "markdown",
   "id": "be05e1f4-4610-476e-aa71-84a00b22033c",
   "metadata": {},
   "source": [
    "# Load dataset - Data preparation\n",
    "#### 1. Load data <small>(contains some hardcoding; CPT and BH data have been previously organized together in an incomplete (containing nans) dataset (this is not neccessary was done to be used to another project).</small>\n",
    "#### 2. split train/test data\n",
    "#### 3. Standardize CPT data (lognormal distribution assumption)\n",
    "#### 4. Prepare borehole data - Dir. based transformation"
   ]
  },
  {
   "cell_type": "code",
   "execution_count": 2,
   "id": "ef4eed42-2c5f-40ad-9ec9-f91ac72863a9",
   "metadata": {},
   "outputs": [],
   "source": [
    "# =============================================================================\n",
    "# Load data\n",
    "# =============================================================================\n",
    "dis_depth = 185\n",
    "num_vertical_des_points = 438 \n",
    "num_cpts_w_bhs = 30\n",
    "   \n",
    "bh_ids = [0, 1, 12, 21, 27] \n",
    "\n",
    "num_bhs = 5\n",
    "\n",
    "data, xt, yt, zt, grid, \\\n",
    "    z_mat, mapping, Dxy, Dz, depth_0 = data_processing_with_BH_scaled(\n",
    "        num_cpts_w_bhs, num_bhs, \n",
    "        dis_depth, \n",
    "        num_vertical_des_points,\n",
    "        cpt_par = \"Ic\")\n",
    "\n",
    "ids = [i for i in range(data.shape[1])]\n",
    "cpt_ids = [i for i in ids if i not in bh_ids]\n",
    "# log-transform\n",
    "data[:, [i for i in ids if i not in bh_ids]] = np.log(data[:, \n",
    "                                                           [i for i in ids if\n",
    "                                                            i not in bh_ids]])   \n",
    "excl_ids = [2, 13, 25, 26]\n",
    "\n",
    "data  = data[:, [i for i in ids if i not in excl_ids]]\n",
    "grid[1] = grid[1][[i for i in ids if i not in excl_ids]]\n",
    "grid[2] = grid[2][[i for i in ids if i not in excl_ids]]\n",
    "\n",
    "ids = [i for i in range(data.shape[1])]\n",
    "bh_ids = [0, 1, 11, 19, 23]\n",
    "\n",
    "cpt_ids = [i for i in ids if i not in bh_ids]\n"
   ]
  },
  {
   "cell_type": "code",
   "execution_count": 3,
   "id": "6502afdf-84a2-4424-967b-fff464a7c6d4",
   "metadata": {},
   "outputs": [],
   "source": [
    "# create the train_x sets\n",
    "\n",
    "data_cpts = data[:, cpt_ids]\n",
    "y_nonnan_cpts = data_cpts.T.ravel()\n",
    "y_nonnan_cpts = y_nonnan_cpts[~np.isnan(y_nonnan_cpts)]\n",
    "len_nonnan_cpts = len(y_nonnan_cpts)\n",
    "# create the train_x for cpts\n",
    "depth_points = (grid[0] * (Dz - depth_0) + depth_0).numpy()\n",
    "\n",
    "train_x_cpts = torch.zeros((len_nonnan_cpts, 3), dtype = torch.float64)\n",
    "rowind = 0; \n",
    "for i, dat in enumerate(data_cpts.T):\n",
    "    idni = len(dat[~np.isnan(dat)])\n",
    "\n",
    "    train_x_cpts[rowind:rowind+idni, 0] = grid[0][:idni]\n",
    "    train_x_cpts[rowind:rowind+idni, 1] = grid[1][cpt_ids[i]]\n",
    "    train_x_cpts[rowind:rowind+idni, 2] = grid[2][cpt_ids[i]]\n",
    "    rowind +=idni"
   ]
  },
  {
   "cell_type": "code",
   "execution_count": 4,
   "id": "f116b60a-03c0-424a-846e-1fe5ff0cb4d9",
   "metadata": {},
   "outputs": [],
   "source": [
    "# Same for boreholes\n",
    "\n",
    "data_bhs = data[:, bh_ids]\n",
    "y_nonnan_bhs = data_bhs.T.ravel()\n",
    "y_nonnan_bhs = y_nonnan_bhs[~np.isnan(y_nonnan_bhs)]\n",
    "len_nonnan_bhs = len(y_nonnan_bhs)\n",
    "train_x_bhs = torch.zeros((len_nonnan_bhs, 3), dtype = torch.float64)\n",
    "rowind = 0;\n",
    "for i, dat in enumerate(data_bhs.T):\n",
    "    idni = len(dat[~np.isnan(dat)])\n",
    "    idni = len(dat[~np.isnan(dat)])\n",
    "    train_x_bhs[rowind:rowind+idni, 0] = grid[0][:idni]\n",
    "    train_x_bhs[rowind:rowind+idni, 1] = grid[1][bh_ids[i]]\n",
    "    train_x_bhs[rowind:rowind+idni, 2] = grid[2][bh_ids[i]]\n",
    "    rowind +=idni"
   ]
  },
  {
   "cell_type": "code",
   "execution_count": 5,
   "id": "ba0ea673-6bbb-46d7-ad9d-d56473ea5d60",
   "metadata": {},
   "outputs": [],
   "source": [
    "# Standardize Ic data (lognormal dist)\n",
    "\n",
    "mu_Ic = np.mean(np.exp(y_nonnan_cpts))\n",
    "std_Ic = np.std(np.exp(y_nonnan_cpts))\n",
    "\n",
    "def pars_log(mu_x,std_x):\n",
    "    std_x_log = np.sqrt(np.log(std_x**2/mu_x**2 +1))\n",
    "    mu_x_log = np.log(mu_x)-(std_x_log**2)/2    \n",
    "    return mu_x_log,std_x_log\n",
    "\n",
    "mu_Ic_log, std_Ic_log = pars_log(mu_Ic,std_Ic) "
   ]
  },
  {
   "cell_type": "code",
   "execution_count": 6,
   "id": "a635014a-a1e3-4974-bdeb-a2f20ebedd9d",
   "metadata": {},
   "outputs": [],
   "source": [
    "# Prepare borehole data\n",
    "\n",
    "y = data[:, bh_ids].copy().T.ravel()\n",
    "y = y[~np.isnan(y)]\n",
    "y_vec = y.astype(int)\n",
    "y_discrete = torch.tensor(y_vec).long()\n",
    "classes = np.unique(y_vec)\n",
    "num_classes = len(classes)\n",
    "Y = np.zeros((len(y_vec), len(classes)))\n",
    "for i, e in enumerate(y_vec):\n",
    "    Y[i, np.where(classes == e)[0]] = 1\n",
    "    \n",
    "# label transformation\n",
    "a_eps = 0.002    \n",
    "\n",
    "s2_tilde = np.log(1.0 / (Y + a_eps) + 1)\n",
    "Y_tilde = np.log(Y + a_eps) - 0.5 * s2_tilde"
   ]
  },
  {
   "cell_type": "code",
   "execution_count": 7,
   "id": "ea1c5baf-1ddc-4e07-8647-b37b1d22bb38",
   "metadata": {},
   "outputs": [],
   "source": [
    "# merge the data\n",
    "train_y = torch.cat([torch.tensor(Y_tilde, dtype = dtype).mT.ravel(), \n",
    "                       (torch.tensor(y_nonnan_cpts, dtype = dtype) - mu_Ic_log) / std_Ic_log], -1)\n",
    "\n",
    "data_cpts_stdzd = (y_nonnan_cpts - mu_Ic_log) / std_Ic_log\n",
    "\n",
    "mean_ytilde = np.mean(Y_tilde)\n",
    "std_Y_tilde = np.std(Y_tilde)\n",
    "\n",
    "data_Ic = (y_nonnan_cpts.reshape(-1, 1) - mu_Ic_log) / std_Ic_log\n",
    "train_Yvar_bhs = torch.tensor(s2_tilde, dtype = dtype).mT.ravel().unsqueeze(-1)\n",
    "train_Yvar_cpts = torch.ones_like(torch.tensor(data_Ic, dtype = dtype)) * torch.tensor(1e-5) # 0.01 or setting, 0.0001\n",
    "\n",
    "# create noise diagonal matrix\n",
    "train_Yvar = torch.cat([train_Yvar_bhs, train_Yvar_cpts])"
   ]
  },
  {
   "cell_type": "code",
   "execution_count": 8,
   "id": "8f6d492e-1f88-4e47-bc0c-33bd82484dbe",
   "metadata": {},
   "outputs": [],
   "source": [
    "# create the train_x full with index \n",
    "num_tasks = num_classes+1\n",
    "i_ind = torch.zeros(train_x_bhs.shape[0], num_tasks)\n",
    "for i in range(num_tasks):\n",
    "    i_ind[:, i] = torch.ones(train_x_bhs.shape[0]) * i\n",
    "    \n",
    "i_ind_cpts = torch.ones(train_x_cpts.shape[0])*int(num_classes)\n",
    "\n",
    "# Needs to be modified according to the number of classes present in the training\n",
    "# data\n",
    "\n",
    "train_Xf = torch.cat([\n",
    "     torch.cat([train_x_bhs, i_ind[:, 0].view(-1,1)], -1), \n",
    "     torch.cat([train_x_bhs, i_ind[:, 1].view(-1,1)], -1),\n",
    "     torch.cat([train_x_bhs, i_ind[:, 2].view(-1,1)], -1),\n",
    "     torch.cat([train_x_bhs, i_ind[:, 3].view(-1,1)], -1),\n",
    "     torch.cat([train_x_bhs, i_ind[:, 4].view(-1,1)], -1),\n",
    "     torch.cat([train_x_bhs, i_ind[:, 5].view(-1,1)], -1),\n",
    "     torch.cat([train_x_bhs, i_ind[:, 6].view(-1,1)], -1),\n",
    "     # torch.cat([train_x_bhs, i_ind[:, 7].view(-1,1)], -1),\n",
    "     # torch.cat([train_x_bhs, i_ind[:, 8].view(-1,1)], -1),\n",
    "     torch.cat([train_x_cpts, i_ind_cpts.view(-1,1)], -1),\n",
    " ], 0)\n",
    "\n",
    "train_Xbhs = torch.cat([torch.cat([train_x_bhs, i_ind[:, i].view(-1,1)], -1) for i in range(num_classes)])\n",
    "train_x_bhsn = train_Xbhs[:,:-1]\n",
    "\n",
    "train_Xf = train_Xf.type(dtype=dtype)\n",
    "train_i = train_Xf[:, -1].long()\n",
    "train_X = train_Xf[:,:-1].type(dtype).detach()\n",
    "\n",
    "train_Y = train_y.unsqueeze(-1)\n",
    "train_yvar = train_Yvar"
   ]
  },
  {
   "cell_type": "markdown",
   "id": "7b22c173-cd05-448b-9320-e18e62b3e9a1",
   "metadata": {},
   "source": [
    "# Construct the model\n",
    "### 1. Initialize inducing points from existing CPTs and BHs locations\n",
    "### 2. define the LMC-based GP model"
   ]
  },
  {
   "cell_type": "code",
   "execution_count": 9,
   "id": "f4b0d985-9ec2-4b1b-b657-efac7b9a5712",
   "metadata": {},
   "outputs": [],
   "source": [
    "# initialize inducing points\n",
    "num_ind = 1500\n",
    "\n",
    "inducing_points1 = train_x_bhsn[torch.randperm(train_x_bhsn.size(0))[:num_ind]]\n",
    "inducing_points2 = train_x_bhsn[torch.randperm(train_x_bhsn.size(0))[:num_ind]]\n",
    "inducing_points3 = train_x_bhsn[torch.randperm(train_x_bhsn.size(0))[:num_ind]]\n",
    "inducing_points4 = train_x_bhsn[torch.randperm(train_x_bhsn.size(0))[:num_ind]]\n",
    "inducing_points5 = train_x_bhsn[torch.randperm(train_x_bhsn.size(0))[:num_ind]]\n",
    "inducing_points6 = train_x_cpts[torch.randperm(train_x_cpts.size(0))[:num_ind]]\n",
    "\n",
    "inducing_points = torch.cat([inducing_points1.unsqueeze(0), inducing_points2.unsqueeze(0), \n",
    "                             inducing_points3.unsqueeze(0), inducing_points4.unsqueeze(0), \n",
    "                             inducing_points5.unsqueeze(0),inducing_points6.unsqueeze(0)], dim = 0).to(dtype).to(device)\n"
   ]
  },
  {
   "cell_type": "code",
   "execution_count": 10,
   "id": "1dfbf8b9-692a-4dde-b7be-674c420fd8c8",
   "metadata": {},
   "outputs": [],
   "source": [
    "# We use the 1D SBL approach to determine the number and indices of BFs (legendre); for the algorithm (not provided here) see Ching 2017\n",
    "drop_ids = [5,6,8,10,12,14,15,16,17,18,19]    # the selected BFs after running the 1D sbl algorithm\n",
    "\n",
    "# -----------------------------------------------------------------------------------------------------------\n",
    "# Legendre mean\n",
    "def get_design_mat_1d(loc, deg):\n",
    "    H = torch.tensor(np.array([eval_sh_legendre(n, loc) for n in range(deg)]).T, dtype = dtype)\n",
    "    return H\n",
    "   \n",
    "class Legendre_poly(gpytorch.means.Mean):\n",
    "    # currently works for constant trent in horizntal!!\n",
    "    def __init__(self,  batch_shape = torch.Size(), mx = 1, my = 1, mz = 3):\n",
    "        super().__init__()\n",
    "        #self.register_parameter(name=\"weights\", parameter=torch.nn.Parameter( \n",
    "        w =  torch.tensor([ 0.79351765,  0.01470026,  0.02857058,  \n",
    "                          0.01003345, -0.11055545, -0.12710841,\n",
    "                          0.12524614, -0.04141932,  0.02043685, \n",
    "                          -0.04141932,   0.02043685, -0.04141932,     \n",
    "                          0.02043685, -0.04141932,  0.02043685, \n",
    "                          0.01470026,  0.02857058,  0.01003345, \n",
    "                          -0.11055545, -0.12710841, 0.12524614,\n",
    "                          -0.04141932,  0.02043685, -0.04141932,  \n",
    "                          0.02043685], dtype=dtype)[:mz].unsqueeze(0)\n",
    "\n",
    "\n",
    "        self.mx = mx\n",
    "        self.my = my\n",
    "        self.mz = mz\n",
    "        self.batch_shape = batch_shape\n",
    "\n",
    "        self.register_parameter(name=\"weights\", \n",
    "                                parameter=torch.nn.Parameter(\n",
    "                                    torch.randn(*batch_shape,  1, self.mz,device=device,dtype=dtype)[..., :, :20- len(drop_ids)]))\n",
    "\n",
    "\n",
    "    def Dmat( self, x):\n",
    "\n",
    "        with torch.no_grad():\n",
    "\n",
    "            if len(x.shape)<=2:\n",
    "                Phi11 = get_design_mat_1d(x[:, 1].reshape(-1,1).detach().cpu().numpy(), self.mx ).squeeze(0)\n",
    "                Phi22 = get_design_mat_1d(x[:, 2].reshape(-1,1).detach().cpu().numpy(), self.my ).squeeze(0)\n",
    "     \n",
    "                Phi_h = torch.einsum('...ik,...il->...ikl', Phi11, Phi22).squeeze(-1).to(device)\n",
    "            \n",
    "                Phi_v = get_design_mat_1d(x[:, 0].reshape(-1,1).detach().cpu().numpy(), self.mz).squeeze(0).to(device)\n",
    "\n",
    "\n",
    "                #=====================================================================\n",
    "                Phi_v = Phi_v[..., :, [j for j in torch.arange(self.mz) if j not in drop_ids]]\n",
    "                #=====================================================================\n",
    "                res = torch.einsum( '...i,...jk,...ji ->  ...j', self.weights, Phi_h, Phi_v ).squeeze(-2)\n",
    "\n",
    "                \n",
    "                return res\n",
    "    \n",
    "            else:\n",
    "                res2 =0\n",
    "                for i in range(num_latents):\n",
    "                    Phi11 = get_design_mat_1d(x[i, :, 1].reshape(-1,1).detach().cpu().numpy(), 1 ).squeeze(0)\n",
    "                    Phi22 = get_design_mat_1d(x[i, :, 2].reshape(-1,1).detach().cpu().numpy(), 1 ).squeeze(0)\n",
    "     \n",
    "                    Phi_h = torch.einsum('...ik,...il->...ikl', Phi11, Phi22).squeeze(-1).to(device)\n",
    "                    Phi_v = get_design_mat_1d(x[i, :, 0].reshape(-1,1).detach().cpu().numpy(), self.mz).squeeze(0).to(device)\n",
    "\n",
    "                    #=====================================================================\n",
    "                    Phi_v = Phi_v[..., :, [j for j in torch.arange(self.mz) if j not in drop_ids]]\n",
    "                    #=====================================================================\n",
    "\n",
    "                    res2=torch.einsum( '...i,...jk,...ji ->  ...j', self.weights, Phi_h, Phi_v ).squeeze(-2)\n",
    "\n",
    "                    return res2\n",
    "    \n",
    "    def forward( self, x):\n",
    "        res = self.Dmat(x)\n",
    "\n",
    "        return res"
   ]
  },
  {
   "cell_type": "code",
   "execution_count": 18,
   "id": "a8851244-aa82-45e7-917a-17bd82fbc215",
   "metadata": {},
   "outputs": [],
   "source": [
    "# Build the model\n",
    "num_latents = 6\n",
    "\n",
    "class MultitaskGPModel(gpytorch.models.ApproximateGP):\n",
    "    def __init__(self, inducing_points, likelihood):\n",
    "\n",
    "        variational_distribution = gpytorch.variational.DeltaVariationalDistribution(\n",
    "            inducing_points.size(-2), batch_shape=torch.Size([num_latents])\n",
    "        )\n",
    "\n",
    "        variational_strategy = gpytorch.variational.LMCVariationalStrategy(\n",
    "            gpytorch.variational.VariationalStrategy(\n",
    "            self, inducing_points, variational_distribution, learn_inducing_locations=True\n",
    "        ),\n",
    "            num_tasks=num_tasks,\n",
    "            num_latents=num_latents,\n",
    "            latent_dim=-1\n",
    "        )\n",
    "        \n",
    "        super(MultitaskGPModel, self).__init__(variational_strategy)\n",
    "        self.likelihood = likelihood\n",
    "        \n",
    "        # mean (legendre or constant)\n",
    "        #self.mean_module = Legendre_poly(batch_shape=torch.Size([num_latents]), mx=1, my=1, mz=20)  \n",
    "        self.mean_module = gpytorch.means.ConstantMean(batch_shape=torch.Size([num_latents]))\n",
    "        \n",
    "        self.covar_module = ScaleKernel(ProductKernel(MaternKernel(nu=0.5,active_dims=torch.tensor([0]),\n",
    "                                                                    batch_shape=torch.Size([num_latents])),               \n",
    "                                    MaternKernel(nu=0.5, active_dims=torch.tensor([1, 2]),\n",
    "                                                  batch_shape=torch.Size([num_latents]))),\n",
    "                                        batch_shape=torch.Size([num_latents]))\n",
    "\n",
    "    def forward(self, x):\n",
    "        mean_x = self.mean_module(x) \n",
    "        covar_x = self.covar_module(x)\n",
    "        return gpytorch.distributions.MultivariateNormal(mean_x, covar_x)\n"
   ]
  },
  {
   "cell_type": "code",
   "execution_count": 19,
   "id": "b653a69e-b75a-4f73-83c0-eae7a117062c",
   "metadata": {},
   "outputs": [],
   "source": [
    "# To load a trained model\n",
    "\n",
    "\n",
    "# state_dict = torch.load('VLMC_strat_Ic-uscs_1500ind_constant.pth')\n",
    "\n",
    "# likelihood  = FixedNoiseGaussianLikelihood(noise=train_Yvar.squeeze(-1))\n",
    "# model = MultitaskGPModel(inducing_points = inducing_points, likelihood = likelihood)\n",
    "# model.load_state_dict(state_dict)\n",
    "# train_X, train_y, train_i = train_X.to(device).contiguous(), train_y.to(device).contiguous(), train_i.to(device).contiguous()\n",
    "# train_yvar = train_yvar.to(device).contiguous()\n",
    "# model = model.to(device)\n",
    "# likelihood = likelihood.to(device)\n"
   ]
  },
  {
   "cell_type": "code",
   "execution_count": 20,
   "id": "5313a073-613b-435a-b853-d843135a8132",
   "metadata": {},
   "outputs": [],
   "source": [
    "# Helper function for inititalizing the inducing points (alternatively we keep the randomly selected from CPTs and BHs locations)\n",
    "inducing_point_allocator = GreedyVarianceReduction()\n",
    "def init_inducing_points(\n",
    "        inputs: Tensor,\n",
    "    ) -> Tensor:\n",
    "        r\"\"\"\n",
    "        Reinitialize the inducing point locations in-place with the current kernel\n",
    "        applied to `inputs` through the model's inducing point allocation strategy.\n",
    "        The variational distribution and variational strategy caches are reset.\n",
    "\n",
    "        Args:\n",
    "            inputs: (\\*batch_shape, n, d)-dim input data tensor.\n",
    "\n",
    "        Returns:\n",
    "            (\\*batch_shape, m, d)-dim tensor of selected inducing point locations.\n",
    "        \"\"\"\n",
    "        var_strat = model.variational_strategy\n",
    "        var_strat = var_strat.base_variational_strategy\n",
    "        with torch.no_grad():\n",
    "            num_inducing = var_strat.inducing_points.size(-2)\n",
    "            inducing_points = inducing_point_allocator.allocate_inducing_points(\n",
    "                inputs=inputs,\n",
    "                covar_module=model.covar_module,\n",
    "                num_inducing=num_inducing,\n",
    "                input_batch_shape=torch.Size([num_latents]),\n",
    "            )\n",
    "            var_strat.inducing_points.copy_(inducing_points)\n",
    "            var_strat.variational_params_initialized.fill_(0)\n",
    "\n",
    "        return inducing_points\n"
   ]
  },
  {
   "cell_type": "code",
   "execution_count": 21,
   "id": "c7563530-194a-4b59-aa42-94861132adea",
   "metadata": {},
   "outputs": [],
   "source": [
    "# call the model and initialize hyperparameters\n",
    "\n",
    "likelihood  = FixedNoiseGaussianLikelihood(noise=train_Yvar.squeeze(-1))\n",
    "model = MultitaskGPModel(inducing_points = inducing_points, likelihood = likelihood)\n",
    "# ini_inducing_points = init_inducing_points(train_X)\n",
    "# model = MultitaskGPModel(inducing_points = ini_inducing_points, likelihood = likelihood)\n",
    "\n",
    "model.covar_module.base_kernel.kernels[0].lengthscale = torch.tensor([0.0271], dtype = dtype, device = device)  #ini\n",
    "model.covar_module.base_kernel.kernels[1].lengthscale = torch.tensor([0.15], dtype = dtype, device = device)\n",
    "\n",
    "train_X, train_y, train_i = train_X.to(device).contiguous(), train_y.to(device).contiguous(), train_i.to(device).contiguous()\n",
    "train_yvar = train_yvar.to(device).contiguous()\n",
    "model = model.to(device)\n",
    "likelihood = likelihood.to(device)"
   ]
  },
  {
   "cell_type": "markdown",
   "id": "7cc5b658-7b64-413f-b4b7-2cc282d026ed",
   "metadata": {},
   "source": [
    "# Train model\n",
    "### 1. minibatch training (4 batches of approx n=5000)\n",
    "### 2. Adam optimizer: (lr is adjusted approx. (lr=0.01 for 100 ep., lr=0.005 for 50 ep., lr=0.001 for >100ep.)) or use a scheduler\n",
    "##### Note: levels of accuracy and precision strongly depend on the optimization (lr, parameters and initialization); experimenting with learning rate, number of inducing points, initialization of inducing points and number of latent functions can enhance performance."
   ]
  },
  {
   "cell_type": "code",
   "execution_count": 22,
   "id": "8951b246-cb35-4035-93e3-f57d64d9af62",
   "metadata": {},
   "outputs": [],
   "source": [
    "from torch.utils.data import TensorDataset, DataLoader\n",
    "train_dataset = TensorDataset(train_X, train_i, train_y, train_yvar)\n",
    "train_loader = DataLoader(train_dataset, batch_size=5000, shuffle=True)"
   ]
  },
  {
   "cell_type": "code",
   "execution_count": 25,
   "id": "9458bb1a-ebde-4f4d-be7f-0906472b2938",
   "metadata": {},
   "outputs": [
    {
     "data": {
      "application/vnd.jupyter.widget-view+json": {
       "model_id": "d0528536a34d4db5a8a093bb3dedd685",
       "version_major": 2,
       "version_minor": 0
      },
      "text/plain": [
       "Epoch:   0%|          | 0/200 [00:00<?, ?it/s]"
      ]
     },
     "metadata": {},
     "output_type": "display_data"
    },
    {
     "data": {
      "application/vnd.jupyter.widget-view+json": {
       "model_id": "",
       "version_major": 2,
       "version_minor": 0
      },
      "text/plain": [
       "Minibatch:   0%|          | 0/4 [00:00<?, ?it/s]"
      ]
     },
     "metadata": {},
     "output_type": "display_data"
    },
    {
     "data": {
      "application/vnd.jupyter.widget-view+json": {
       "model_id": "",
       "version_major": 2,
       "version_minor": 0
      },
      "text/plain": [
       "Minibatch:   0%|          | 0/4 [00:00<?, ?it/s]"
      ]
     },
     "metadata": {},
     "output_type": "display_data"
    },
    {
     "data": {
      "application/vnd.jupyter.widget-view+json": {
       "model_id": "",
       "version_major": 2,
       "version_minor": 0
      },
      "text/plain": [
       "Minibatch:   0%|          | 0/4 [00:00<?, ?it/s]"
      ]
     },
     "metadata": {},
     "output_type": "display_data"
    },
    {
     "data": {
      "application/vnd.jupyter.widget-view+json": {
       "model_id": "",
       "version_major": 2,
       "version_minor": 0
      },
      "text/plain": [
       "Minibatch:   0%|          | 0/4 [00:00<?, ?it/s]"
      ]
     },
     "metadata": {},
     "output_type": "display_data"
    },
    {
     "data": {
      "application/vnd.jupyter.widget-view+json": {
       "model_id": "",
       "version_major": 2,
       "version_minor": 0
      },
      "text/plain": [
       "Minibatch:   0%|          | 0/4 [00:00<?, ?it/s]"
      ]
     },
     "metadata": {},
     "output_type": "display_data"
    },
    {
     "data": {
      "application/vnd.jupyter.widget-view+json": {
       "model_id": "",
       "version_major": 2,
       "version_minor": 0
      },
      "text/plain": [
       "Minibatch:   0%|          | 0/4 [00:00<?, ?it/s]"
      ]
     },
     "metadata": {},
     "output_type": "display_data"
    },
    {
     "data": {
      "application/vnd.jupyter.widget-view+json": {
       "model_id": "",
       "version_major": 2,
       "version_minor": 0
      },
      "text/plain": [
       "Minibatch:   0%|          | 0/4 [00:00<?, ?it/s]"
      ]
     },
     "metadata": {},
     "output_type": "display_data"
    },
    {
     "data": {
      "application/vnd.jupyter.widget-view+json": {
       "model_id": "",
       "version_major": 2,
       "version_minor": 0
      },
      "text/plain": [
       "Minibatch:   0%|          | 0/4 [00:00<?, ?it/s]"
      ]
     },
     "metadata": {},
     "output_type": "display_data"
    },
    {
     "data": {
      "application/vnd.jupyter.widget-view+json": {
       "model_id": "",
       "version_major": 2,
       "version_minor": 0
      },
      "text/plain": [
       "Minibatch:   0%|          | 0/4 [00:00<?, ?it/s]"
      ]
     },
     "metadata": {},
     "output_type": "display_data"
    },
    {
     "data": {
      "application/vnd.jupyter.widget-view+json": {
       "model_id": "",
       "version_major": 2,
       "version_minor": 0
      },
      "text/plain": [
       "Minibatch:   0%|          | 0/4 [00:00<?, ?it/s]"
      ]
     },
     "metadata": {},
     "output_type": "display_data"
    },
    {
     "data": {
      "application/vnd.jupyter.widget-view+json": {
       "model_id": "",
       "version_major": 2,
       "version_minor": 0
      },
      "text/plain": [
       "Minibatch:   0%|          | 0/4 [00:00<?, ?it/s]"
      ]
     },
     "metadata": {},
     "output_type": "display_data"
    },
    {
     "data": {
      "application/vnd.jupyter.widget-view+json": {
       "model_id": "",
       "version_major": 2,
       "version_minor": 0
      },
      "text/plain": [
       "Minibatch:   0%|          | 0/4 [00:00<?, ?it/s]"
      ]
     },
     "metadata": {},
     "output_type": "display_data"
    },
    {
     "data": {
      "application/vnd.jupyter.widget-view+json": {
       "model_id": "",
       "version_major": 2,
       "version_minor": 0
      },
      "text/plain": [
       "Minibatch:   0%|          | 0/4 [00:00<?, ?it/s]"
      ]
     },
     "metadata": {},
     "output_type": "display_data"
    },
    {
     "data": {
      "application/vnd.jupyter.widget-view+json": {
       "model_id": "",
       "version_major": 2,
       "version_minor": 0
      },
      "text/plain": [
       "Minibatch:   0%|          | 0/4 [00:00<?, ?it/s]"
      ]
     },
     "metadata": {},
     "output_type": "display_data"
    },
    {
     "data": {
      "application/vnd.jupyter.widget-view+json": {
       "model_id": "",
       "version_major": 2,
       "version_minor": 0
      },
      "text/plain": [
       "Minibatch:   0%|          | 0/4 [00:00<?, ?it/s]"
      ]
     },
     "metadata": {},
     "output_type": "display_data"
    },
    {
     "data": {
      "application/vnd.jupyter.widget-view+json": {
       "model_id": "",
       "version_major": 2,
       "version_minor": 0
      },
      "text/plain": [
       "Minibatch:   0%|          | 0/4 [00:00<?, ?it/s]"
      ]
     },
     "metadata": {},
     "output_type": "display_data"
    },
    {
     "data": {
      "application/vnd.jupyter.widget-view+json": {
       "model_id": "",
       "version_major": 2,
       "version_minor": 0
      },
      "text/plain": [
       "Minibatch:   0%|          | 0/4 [00:00<?, ?it/s]"
      ]
     },
     "metadata": {},
     "output_type": "display_data"
    },
    {
     "data": {
      "application/vnd.jupyter.widget-view+json": {
       "model_id": "",
       "version_major": 2,
       "version_minor": 0
      },
      "text/plain": [
       "Minibatch:   0%|          | 0/4 [00:00<?, ?it/s]"
      ]
     },
     "metadata": {},
     "output_type": "display_data"
    },
    {
     "data": {
      "application/vnd.jupyter.widget-view+json": {
       "model_id": "",
       "version_major": 2,
       "version_minor": 0
      },
      "text/plain": [
       "Minibatch:   0%|          | 0/4 [00:00<?, ?it/s]"
      ]
     },
     "metadata": {},
     "output_type": "display_data"
    },
    {
     "data": {
      "application/vnd.jupyter.widget-view+json": {
       "model_id": "",
       "version_major": 2,
       "version_minor": 0
      },
      "text/plain": [
       "Minibatch:   0%|          | 0/4 [00:00<?, ?it/s]"
      ]
     },
     "metadata": {},
     "output_type": "display_data"
    },
    {
     "data": {
      "application/vnd.jupyter.widget-view+json": {
       "model_id": "",
       "version_major": 2,
       "version_minor": 0
      },
      "text/plain": [
       "Minibatch:   0%|          | 0/4 [00:00<?, ?it/s]"
      ]
     },
     "metadata": {},
     "output_type": "display_data"
    },
    {
     "data": {
      "application/vnd.jupyter.widget-view+json": {
       "model_id": "",
       "version_major": 2,
       "version_minor": 0
      },
      "text/plain": [
       "Minibatch:   0%|          | 0/4 [00:00<?, ?it/s]"
      ]
     },
     "metadata": {},
     "output_type": "display_data"
    },
    {
     "data": {
      "application/vnd.jupyter.widget-view+json": {
       "model_id": "",
       "version_major": 2,
       "version_minor": 0
      },
      "text/plain": [
       "Minibatch:   0%|          | 0/4 [00:00<?, ?it/s]"
      ]
     },
     "metadata": {},
     "output_type": "display_data"
    },
    {
     "data": {
      "application/vnd.jupyter.widget-view+json": {
       "model_id": "",
       "version_major": 2,
       "version_minor": 0
      },
      "text/plain": [
       "Minibatch:   0%|          | 0/4 [00:00<?, ?it/s]"
      ]
     },
     "metadata": {},
     "output_type": "display_data"
    },
    {
     "data": {
      "application/vnd.jupyter.widget-view+json": {
       "model_id": "",
       "version_major": 2,
       "version_minor": 0
      },
      "text/plain": [
       "Minibatch:   0%|          | 0/4 [00:00<?, ?it/s]"
      ]
     },
     "metadata": {},
     "output_type": "display_data"
    },
    {
     "data": {
      "application/vnd.jupyter.widget-view+json": {
       "model_id": "",
       "version_major": 2,
       "version_minor": 0
      },
      "text/plain": [
       "Minibatch:   0%|          | 0/4 [00:00<?, ?it/s]"
      ]
     },
     "metadata": {},
     "output_type": "display_data"
    },
    {
     "data": {
      "application/vnd.jupyter.widget-view+json": {
       "model_id": "",
       "version_major": 2,
       "version_minor": 0
      },
      "text/plain": [
       "Minibatch:   0%|          | 0/4 [00:00<?, ?it/s]"
      ]
     },
     "metadata": {},
     "output_type": "display_data"
    },
    {
     "data": {
      "application/vnd.jupyter.widget-view+json": {
       "model_id": "",
       "version_major": 2,
       "version_minor": 0
      },
      "text/plain": [
       "Minibatch:   0%|          | 0/4 [00:00<?, ?it/s]"
      ]
     },
     "metadata": {},
     "output_type": "display_data"
    },
    {
     "data": {
      "application/vnd.jupyter.widget-view+json": {
       "model_id": "",
       "version_major": 2,
       "version_minor": 0
      },
      "text/plain": [
       "Minibatch:   0%|          | 0/4 [00:00<?, ?it/s]"
      ]
     },
     "metadata": {},
     "output_type": "display_data"
    },
    {
     "data": {
      "application/vnd.jupyter.widget-view+json": {
       "model_id": "",
       "version_major": 2,
       "version_minor": 0
      },
      "text/plain": [
       "Minibatch:   0%|          | 0/4 [00:00<?, ?it/s]"
      ]
     },
     "metadata": {},
     "output_type": "display_data"
    },
    {
     "data": {
      "application/vnd.jupyter.widget-view+json": {
       "model_id": "",
       "version_major": 2,
       "version_minor": 0
      },
      "text/plain": [
       "Minibatch:   0%|          | 0/4 [00:00<?, ?it/s]"
      ]
     },
     "metadata": {},
     "output_type": "display_data"
    },
    {
     "data": {
      "application/vnd.jupyter.widget-view+json": {
       "model_id": "",
       "version_major": 2,
       "version_minor": 0
      },
      "text/plain": [
       "Minibatch:   0%|          | 0/4 [00:00<?, ?it/s]"
      ]
     },
     "metadata": {},
     "output_type": "display_data"
    },
    {
     "data": {
      "application/vnd.jupyter.widget-view+json": {
       "model_id": "",
       "version_major": 2,
       "version_minor": 0
      },
      "text/plain": [
       "Minibatch:   0%|          | 0/4 [00:00<?, ?it/s]"
      ]
     },
     "metadata": {},
     "output_type": "display_data"
    },
    {
     "data": {
      "application/vnd.jupyter.widget-view+json": {
       "model_id": "",
       "version_major": 2,
       "version_minor": 0
      },
      "text/plain": [
       "Minibatch:   0%|          | 0/4 [00:00<?, ?it/s]"
      ]
     },
     "metadata": {},
     "output_type": "display_data"
    },
    {
     "data": {
      "application/vnd.jupyter.widget-view+json": {
       "model_id": "",
       "version_major": 2,
       "version_minor": 0
      },
      "text/plain": [
       "Minibatch:   0%|          | 0/4 [00:00<?, ?it/s]"
      ]
     },
     "metadata": {},
     "output_type": "display_data"
    },
    {
     "data": {
      "application/vnd.jupyter.widget-view+json": {
       "model_id": "",
       "version_major": 2,
       "version_minor": 0
      },
      "text/plain": [
       "Minibatch:   0%|          | 0/4 [00:00<?, ?it/s]"
      ]
     },
     "metadata": {},
     "output_type": "display_data"
    },
    {
     "data": {
      "application/vnd.jupyter.widget-view+json": {
       "model_id": "",
       "version_major": 2,
       "version_minor": 0
      },
      "text/plain": [
       "Minibatch:   0%|          | 0/4 [00:00<?, ?it/s]"
      ]
     },
     "metadata": {},
     "output_type": "display_data"
    },
    {
     "data": {
      "application/vnd.jupyter.widget-view+json": {
       "model_id": "",
       "version_major": 2,
       "version_minor": 0
      },
      "text/plain": [
       "Minibatch:   0%|          | 0/4 [00:00<?, ?it/s]"
      ]
     },
     "metadata": {},
     "output_type": "display_data"
    },
    {
     "data": {
      "application/vnd.jupyter.widget-view+json": {
       "model_id": "",
       "version_major": 2,
       "version_minor": 0
      },
      "text/plain": [
       "Minibatch:   0%|          | 0/4 [00:00<?, ?it/s]"
      ]
     },
     "metadata": {},
     "output_type": "display_data"
    },
    {
     "data": {
      "application/vnd.jupyter.widget-view+json": {
       "model_id": "",
       "version_major": 2,
       "version_minor": 0
      },
      "text/plain": [
       "Minibatch:   0%|          | 0/4 [00:00<?, ?it/s]"
      ]
     },
     "metadata": {},
     "output_type": "display_data"
    },
    {
     "data": {
      "application/vnd.jupyter.widget-view+json": {
       "model_id": "",
       "version_major": 2,
       "version_minor": 0
      },
      "text/plain": [
       "Minibatch:   0%|          | 0/4 [00:00<?, ?it/s]"
      ]
     },
     "metadata": {},
     "output_type": "display_data"
    },
    {
     "data": {
      "application/vnd.jupyter.widget-view+json": {
       "model_id": "",
       "version_major": 2,
       "version_minor": 0
      },
      "text/plain": [
       "Minibatch:   0%|          | 0/4 [00:00<?, ?it/s]"
      ]
     },
     "metadata": {},
     "output_type": "display_data"
    },
    {
     "data": {
      "application/vnd.jupyter.widget-view+json": {
       "model_id": "",
       "version_major": 2,
       "version_minor": 0
      },
      "text/plain": [
       "Minibatch:   0%|          | 0/4 [00:00<?, ?it/s]"
      ]
     },
     "metadata": {},
     "output_type": "display_data"
    },
    {
     "data": {
      "application/vnd.jupyter.widget-view+json": {
       "model_id": "",
       "version_major": 2,
       "version_minor": 0
      },
      "text/plain": [
       "Minibatch:   0%|          | 0/4 [00:00<?, ?it/s]"
      ]
     },
     "metadata": {},
     "output_type": "display_data"
    },
    {
     "data": {
      "application/vnd.jupyter.widget-view+json": {
       "model_id": "",
       "version_major": 2,
       "version_minor": 0
      },
      "text/plain": [
       "Minibatch:   0%|          | 0/4 [00:00<?, ?it/s]"
      ]
     },
     "metadata": {},
     "output_type": "display_data"
    },
    {
     "data": {
      "application/vnd.jupyter.widget-view+json": {
       "model_id": "",
       "version_major": 2,
       "version_minor": 0
      },
      "text/plain": [
       "Minibatch:   0%|          | 0/4 [00:00<?, ?it/s]"
      ]
     },
     "metadata": {},
     "output_type": "display_data"
    },
    {
     "data": {
      "application/vnd.jupyter.widget-view+json": {
       "model_id": "",
       "version_major": 2,
       "version_minor": 0
      },
      "text/plain": [
       "Minibatch:   0%|          | 0/4 [00:00<?, ?it/s]"
      ]
     },
     "metadata": {},
     "output_type": "display_data"
    },
    {
     "data": {
      "application/vnd.jupyter.widget-view+json": {
       "model_id": "",
       "version_major": 2,
       "version_minor": 0
      },
      "text/plain": [
       "Minibatch:   0%|          | 0/4 [00:00<?, ?it/s]"
      ]
     },
     "metadata": {},
     "output_type": "display_data"
    },
    {
     "data": {
      "application/vnd.jupyter.widget-view+json": {
       "model_id": "",
       "version_major": 2,
       "version_minor": 0
      },
      "text/plain": [
       "Minibatch:   0%|          | 0/4 [00:00<?, ?it/s]"
      ]
     },
     "metadata": {},
     "output_type": "display_data"
    },
    {
     "data": {
      "application/vnd.jupyter.widget-view+json": {
       "model_id": "47ed0faf1ccf42c29b976844a9d3917f",
       "version_major": 2,
       "version_minor": 0
      },
      "text/plain": [
       "Minibatch:   0%|          | 0/4 [00:00<?, ?it/s]"
      ]
     },
     "metadata": {},
     "output_type": "display_data"
    },
    {
     "data": {
      "application/vnd.jupyter.widget-view+json": {
       "model_id": "265524e89aae47c7981fcac82e3b351e",
       "version_major": 2,
       "version_minor": 0
      },
      "text/plain": [
       "Minibatch:   0%|          | 0/4 [00:00<?, ?it/s]"
      ]
     },
     "metadata": {},
     "output_type": "display_data"
    },
    {
     "data": {
      "application/vnd.jupyter.widget-view+json": {
       "model_id": "e1b22b3e99fb496fae03ee0fb0d1606d",
       "version_major": 2,
       "version_minor": 0
      },
      "text/plain": [
       "Minibatch:   0%|          | 0/4 [00:00<?, ?it/s]"
      ]
     },
     "metadata": {},
     "output_type": "display_data"
    },
    {
     "data": {
      "application/vnd.jupyter.widget-view+json": {
       "model_id": "e59708620f754cfb9fbcd7d479993eb3",
       "version_major": 2,
       "version_minor": 0
      },
      "text/plain": [
       "Minibatch:   0%|          | 0/4 [00:00<?, ?it/s]"
      ]
     },
     "metadata": {},
     "output_type": "display_data"
    },
    {
     "data": {
      "application/vnd.jupyter.widget-view+json": {
       "model_id": "d99636856dbd4ee3b8634fef5850603b",
       "version_major": 2,
       "version_minor": 0
      },
      "text/plain": [
       "Minibatch:   0%|          | 0/4 [00:00<?, ?it/s]"
      ]
     },
     "metadata": {},
     "output_type": "display_data"
    },
    {
     "data": {
      "application/vnd.jupyter.widget-view+json": {
       "model_id": "9b70f44a438c46c5bb91934012eedd6e",
       "version_major": 2,
       "version_minor": 0
      },
      "text/plain": [
       "Minibatch:   0%|          | 0/4 [00:00<?, ?it/s]"
      ]
     },
     "metadata": {},
     "output_type": "display_data"
    },
    {
     "data": {
      "application/vnd.jupyter.widget-view+json": {
       "model_id": "b468711f4a5c470c958e168530a763e8",
       "version_major": 2,
       "version_minor": 0
      },
      "text/plain": [
       "Minibatch:   0%|          | 0/4 [00:00<?, ?it/s]"
      ]
     },
     "metadata": {},
     "output_type": "display_data"
    },
    {
     "data": {
      "application/vnd.jupyter.widget-view+json": {
       "model_id": "515202ad44b340d787e5b62ab3301806",
       "version_major": 2,
       "version_minor": 0
      },
      "text/plain": [
       "Minibatch:   0%|          | 0/4 [00:00<?, ?it/s]"
      ]
     },
     "metadata": {},
     "output_type": "display_data"
    },
    {
     "data": {
      "application/vnd.jupyter.widget-view+json": {
       "model_id": "7f378628767a49428494ded535333390",
       "version_major": 2,
       "version_minor": 0
      },
      "text/plain": [
       "Minibatch:   0%|          | 0/4 [00:00<?, ?it/s]"
      ]
     },
     "metadata": {},
     "output_type": "display_data"
    },
    {
     "data": {
      "application/vnd.jupyter.widget-view+json": {
       "model_id": "dd9dba453bdb4700ad09dd1e3ce5488d",
       "version_major": 2,
       "version_minor": 0
      },
      "text/plain": [
       "Minibatch:   0%|          | 0/4 [00:00<?, ?it/s]"
      ]
     },
     "metadata": {},
     "output_type": "display_data"
    },
    {
     "data": {
      "application/vnd.jupyter.widget-view+json": {
       "model_id": "828d0e2c41134c2e90ecaee1bbc6702c",
       "version_major": 2,
       "version_minor": 0
      },
      "text/plain": [
       "Minibatch:   0%|          | 0/4 [00:00<?, ?it/s]"
      ]
     },
     "metadata": {},
     "output_type": "display_data"
    },
    {
     "data": {
      "application/vnd.jupyter.widget-view+json": {
       "model_id": "36dee6f0f58244199fbbea5aea74cc94",
       "version_major": 2,
       "version_minor": 0
      },
      "text/plain": [
       "Minibatch:   0%|          | 0/4 [00:00<?, ?it/s]"
      ]
     },
     "metadata": {},
     "output_type": "display_data"
    },
    {
     "name": "stderr",
     "output_type": "stream",
     "text": [
      "C:\\Users\\ozinas\\.conda\\envs\\spyder-cuda\\Lib\\site-packages\\linear_operator\\utils\\cholesky.py:40: NumericalWarning: A not p.d., added jitter of 1.0e-01 to the diagonal\n",
      "  warnings.warn(\n"
     ]
    },
    {
     "data": {
      "application/vnd.jupyter.widget-view+json": {
       "model_id": "97c94116eb6a441683bb7cb03bfc8199",
       "version_major": 2,
       "version_minor": 0
      },
      "text/plain": [
       "Minibatch:   0%|          | 0/4 [00:00<?, ?it/s]"
      ]
     },
     "metadata": {},
     "output_type": "display_data"
    },
    {
     "data": {
      "application/vnd.jupyter.widget-view+json": {
       "model_id": "108f14531bf443dd9096641871fae807",
       "version_major": 2,
       "version_minor": 0
      },
      "text/plain": [
       "Minibatch:   0%|          | 0/4 [00:00<?, ?it/s]"
      ]
     },
     "metadata": {},
     "output_type": "display_data"
    },
    {
     "data": {
      "application/vnd.jupyter.widget-view+json": {
       "model_id": "6098e540b7f7437d8277757636ef850d",
       "version_major": 2,
       "version_minor": 0
      },
      "text/plain": [
       "Minibatch:   0%|          | 0/4 [00:00<?, ?it/s]"
      ]
     },
     "metadata": {},
     "output_type": "display_data"
    },
    {
     "data": {
      "application/vnd.jupyter.widget-view+json": {
       "model_id": "cf2ece9f2e694223938c8cc186a67a42",
       "version_major": 2,
       "version_minor": 0
      },
      "text/plain": [
       "Minibatch:   0%|          | 0/4 [00:00<?, ?it/s]"
      ]
     },
     "metadata": {},
     "output_type": "display_data"
    },
    {
     "data": {
      "application/vnd.jupyter.widget-view+json": {
       "model_id": "40e96c7613c344f5a44a02c26de97067",
       "version_major": 2,
       "version_minor": 0
      },
      "text/plain": [
       "Minibatch:   0%|          | 0/4 [00:00<?, ?it/s]"
      ]
     },
     "metadata": {},
     "output_type": "display_data"
    },
    {
     "data": {
      "application/vnd.jupyter.widget-view+json": {
       "model_id": "75a64723819d433f8bfa88a16893d576",
       "version_major": 2,
       "version_minor": 0
      },
      "text/plain": [
       "Minibatch:   0%|          | 0/4 [00:00<?, ?it/s]"
      ]
     },
     "metadata": {},
     "output_type": "display_data"
    },
    {
     "data": {
      "application/vnd.jupyter.widget-view+json": {
       "model_id": "3db3fb5f9fa34069989d381d905ad2b1",
       "version_major": 2,
       "version_minor": 0
      },
      "text/plain": [
       "Minibatch:   0%|          | 0/4 [00:00<?, ?it/s]"
      ]
     },
     "metadata": {},
     "output_type": "display_data"
    },
    {
     "data": {
      "application/vnd.jupyter.widget-view+json": {
       "model_id": "5685fd3968b24990b1cd1d7d0a0b0284",
       "version_major": 2,
       "version_minor": 0
      },
      "text/plain": [
       "Minibatch:   0%|          | 0/4 [00:00<?, ?it/s]"
      ]
     },
     "metadata": {},
     "output_type": "display_data"
    },
    {
     "data": {
      "application/vnd.jupyter.widget-view+json": {
       "model_id": "38856b93a5a3494eab545ee77c2e0031",
       "version_major": 2,
       "version_minor": 0
      },
      "text/plain": [
       "Minibatch:   0%|          | 0/4 [00:00<?, ?it/s]"
      ]
     },
     "metadata": {},
     "output_type": "display_data"
    },
    {
     "data": {
      "application/vnd.jupyter.widget-view+json": {
       "model_id": "bc9a7471c194429e88a7c592e4cc8b20",
       "version_major": 2,
       "version_minor": 0
      },
      "text/plain": [
       "Minibatch:   0%|          | 0/4 [00:00<?, ?it/s]"
      ]
     },
     "metadata": {},
     "output_type": "display_data"
    },
    {
     "data": {
      "application/vnd.jupyter.widget-view+json": {
       "model_id": "48e7069e5d3e44629059985e4f1f6d4c",
       "version_major": 2,
       "version_minor": 0
      },
      "text/plain": [
       "Minibatch:   0%|          | 0/4 [00:00<?, ?it/s]"
      ]
     },
     "metadata": {},
     "output_type": "display_data"
    },
    {
     "data": {
      "application/vnd.jupyter.widget-view+json": {
       "model_id": "fe24731385814551947dd8e25021d87c",
       "version_major": 2,
       "version_minor": 0
      },
      "text/plain": [
       "Minibatch:   0%|          | 0/4 [00:00<?, ?it/s]"
      ]
     },
     "metadata": {},
     "output_type": "display_data"
    },
    {
     "data": {
      "application/vnd.jupyter.widget-view+json": {
       "model_id": "faf3605f7a284915950cc7975d640d86",
       "version_major": 2,
       "version_minor": 0
      },
      "text/plain": [
       "Minibatch:   0%|          | 0/4 [00:00<?, ?it/s]"
      ]
     },
     "metadata": {},
     "output_type": "display_data"
    },
    {
     "data": {
      "application/vnd.jupyter.widget-view+json": {
       "model_id": "886e2a824fb643199d901ab865c6122c",
       "version_major": 2,
       "version_minor": 0
      },
      "text/plain": [
       "Minibatch:   0%|          | 0/4 [00:00<?, ?it/s]"
      ]
     },
     "metadata": {},
     "output_type": "display_data"
    },
    {
     "data": {
      "application/vnd.jupyter.widget-view+json": {
       "model_id": "60b8a2def6104cafa8bbcd37f3037c8f",
       "version_major": 2,
       "version_minor": 0
      },
      "text/plain": [
       "Minibatch:   0%|          | 0/4 [00:00<?, ?it/s]"
      ]
     },
     "metadata": {},
     "output_type": "display_data"
    },
    {
     "data": {
      "application/vnd.jupyter.widget-view+json": {
       "model_id": "7ae0e417f3f04196aa575d3ea8f21d9c",
       "version_major": 2,
       "version_minor": 0
      },
      "text/plain": [
       "Minibatch:   0%|          | 0/4 [00:00<?, ?it/s]"
      ]
     },
     "metadata": {},
     "output_type": "display_data"
    },
    {
     "data": {
      "application/vnd.jupyter.widget-view+json": {
       "model_id": "72fc24a3d9f74b1bbb10b8dd57c91955",
       "version_major": 2,
       "version_minor": 0
      },
      "text/plain": [
       "Minibatch:   0%|          | 0/4 [00:00<?, ?it/s]"
      ]
     },
     "metadata": {},
     "output_type": "display_data"
    },
    {
     "data": {
      "application/vnd.jupyter.widget-view+json": {
       "model_id": "5e502b475d8047db94b085f11fa86f52",
       "version_major": 2,
       "version_minor": 0
      },
      "text/plain": [
       "Minibatch:   0%|          | 0/4 [00:00<?, ?it/s]"
      ]
     },
     "metadata": {},
     "output_type": "display_data"
    },
    {
     "data": {
      "application/vnd.jupyter.widget-view+json": {
       "model_id": "558a6ea529b5438abff0d34c513eab37",
       "version_major": 2,
       "version_minor": 0
      },
      "text/plain": [
       "Minibatch:   0%|          | 0/4 [00:00<?, ?it/s]"
      ]
     },
     "metadata": {},
     "output_type": "display_data"
    },
    {
     "data": {
      "application/vnd.jupyter.widget-view+json": {
       "model_id": "4d78641514da4685a3063fc8aeb04f27",
       "version_major": 2,
       "version_minor": 0
      },
      "text/plain": [
       "Minibatch:   0%|          | 0/4 [00:00<?, ?it/s]"
      ]
     },
     "metadata": {},
     "output_type": "display_data"
    },
    {
     "data": {
      "application/vnd.jupyter.widget-view+json": {
       "model_id": "8a0c7b4b495e4918898265085ca51f89",
       "version_major": 2,
       "version_minor": 0
      },
      "text/plain": [
       "Minibatch:   0%|          | 0/4 [00:00<?, ?it/s]"
      ]
     },
     "metadata": {},
     "output_type": "display_data"
    },
    {
     "data": {
      "application/vnd.jupyter.widget-view+json": {
       "model_id": "bca063455ac547a5a2c9da43613243a8",
       "version_major": 2,
       "version_minor": 0
      },
      "text/plain": [
       "Minibatch:   0%|          | 0/4 [00:00<?, ?it/s]"
      ]
     },
     "metadata": {},
     "output_type": "display_data"
    },
    {
     "data": {
      "application/vnd.jupyter.widget-view+json": {
       "model_id": "c56f06028f724cc6bfb6478583f644de",
       "version_major": 2,
       "version_minor": 0
      },
      "text/plain": [
       "Minibatch:   0%|          | 0/4 [00:00<?, ?it/s]"
      ]
     },
     "metadata": {},
     "output_type": "display_data"
    },
    {
     "data": {
      "application/vnd.jupyter.widget-view+json": {
       "model_id": "99bd3f66d1e04217b74ecaa35aaca2aa",
       "version_major": 2,
       "version_minor": 0
      },
      "text/plain": [
       "Minibatch:   0%|          | 0/4 [00:00<?, ?it/s]"
      ]
     },
     "metadata": {},
     "output_type": "display_data"
    },
    {
     "data": {
      "application/vnd.jupyter.widget-view+json": {
       "model_id": "96c6f5e415844837bcaeeb38f3741bcb",
       "version_major": 2,
       "version_minor": 0
      },
      "text/plain": [
       "Minibatch:   0%|          | 0/4 [00:00<?, ?it/s]"
      ]
     },
     "metadata": {},
     "output_type": "display_data"
    },
    {
     "data": {
      "application/vnd.jupyter.widget-view+json": {
       "model_id": "41c07dece0df4392b34635af82289227",
       "version_major": 2,
       "version_minor": 0
      },
      "text/plain": [
       "Minibatch:   0%|          | 0/4 [00:00<?, ?it/s]"
      ]
     },
     "metadata": {},
     "output_type": "display_data"
    },
    {
     "data": {
      "application/vnd.jupyter.widget-view+json": {
       "model_id": "33787e5415634283950c3d7818e022ea",
       "version_major": 2,
       "version_minor": 0
      },
      "text/plain": [
       "Minibatch:   0%|          | 0/4 [00:00<?, ?it/s]"
      ]
     },
     "metadata": {},
     "output_type": "display_data"
    },
    {
     "data": {
      "application/vnd.jupyter.widget-view+json": {
       "model_id": "290991fba3234f5198cc14876546c5a4",
       "version_major": 2,
       "version_minor": 0
      },
      "text/plain": [
       "Minibatch:   0%|          | 0/4 [00:00<?, ?it/s]"
      ]
     },
     "metadata": {},
     "output_type": "display_data"
    },
    {
     "data": {
      "application/vnd.jupyter.widget-view+json": {
       "model_id": "8ea0d152c8b54ef49f488d27525ed9e2",
       "version_major": 2,
       "version_minor": 0
      },
      "text/plain": [
       "Minibatch:   0%|          | 0/4 [00:00<?, ?it/s]"
      ]
     },
     "metadata": {},
     "output_type": "display_data"
    },
    {
     "data": {
      "application/vnd.jupyter.widget-view+json": {
       "model_id": "100a29b0befc4699b2bf8cb8d9c037d5",
       "version_major": 2,
       "version_minor": 0
      },
      "text/plain": [
       "Minibatch:   0%|          | 0/4 [00:00<?, ?it/s]"
      ]
     },
     "metadata": {},
     "output_type": "display_data"
    },
    {
     "data": {
      "application/vnd.jupyter.widget-view+json": {
       "model_id": "e12792c126394f8eb13ddc3e1833c948",
       "version_major": 2,
       "version_minor": 0
      },
      "text/plain": [
       "Minibatch:   0%|          | 0/4 [00:00<?, ?it/s]"
      ]
     },
     "metadata": {},
     "output_type": "display_data"
    },
    {
     "data": {
      "application/vnd.jupyter.widget-view+json": {
       "model_id": "4ad010836eb54dc6b41e44207d17016e",
       "version_major": 2,
       "version_minor": 0
      },
      "text/plain": [
       "Minibatch:   0%|          | 0/4 [00:00<?, ?it/s]"
      ]
     },
     "metadata": {},
     "output_type": "display_data"
    },
    {
     "data": {
      "application/vnd.jupyter.widget-view+json": {
       "model_id": "2dac1673f9d44b08bb6ba995509a04c5",
       "version_major": 2,
       "version_minor": 0
      },
      "text/plain": [
       "Minibatch:   0%|          | 0/4 [00:00<?, ?it/s]"
      ]
     },
     "metadata": {},
     "output_type": "display_data"
    },
    {
     "data": {
      "application/vnd.jupyter.widget-view+json": {
       "model_id": "dad36840f14d400f8fe470704a59cfff",
       "version_major": 2,
       "version_minor": 0
      },
      "text/plain": [
       "Minibatch:   0%|          | 0/4 [00:00<?, ?it/s]"
      ]
     },
     "metadata": {},
     "output_type": "display_data"
    },
    {
     "data": {
      "application/vnd.jupyter.widget-view+json": {
       "model_id": "5c7d28f73fcf4f0dbc1dd01b6163cc1a",
       "version_major": 2,
       "version_minor": 0
      },
      "text/plain": [
       "Minibatch:   0%|          | 0/4 [00:00<?, ?it/s]"
      ]
     },
     "metadata": {},
     "output_type": "display_data"
    },
    {
     "data": {
      "application/vnd.jupyter.widget-view+json": {
       "model_id": "0692bbaa162e4aa1bd6b5ffe5c53a26a",
       "version_major": 2,
       "version_minor": 0
      },
      "text/plain": [
       "Minibatch:   0%|          | 0/4 [00:00<?, ?it/s]"
      ]
     },
     "metadata": {},
     "output_type": "display_data"
    },
    {
     "data": {
      "application/vnd.jupyter.widget-view+json": {
       "model_id": "b1b66f9038b84d029657f5a01da8d1bb",
       "version_major": 2,
       "version_minor": 0
      },
      "text/plain": [
       "Minibatch:   0%|          | 0/4 [00:00<?, ?it/s]"
      ]
     },
     "metadata": {},
     "output_type": "display_data"
    },
    {
     "data": {
      "application/vnd.jupyter.widget-view+json": {
       "model_id": "5e67bd97e9f14360a1a9b445628afe42",
       "version_major": 2,
       "version_minor": 0
      },
      "text/plain": [
       "Minibatch:   0%|          | 0/4 [00:00<?, ?it/s]"
      ]
     },
     "metadata": {},
     "output_type": "display_data"
    },
    {
     "data": {
      "application/vnd.jupyter.widget-view+json": {
       "model_id": "aa89b2dfec1a4937baeaeba66e9d821e",
       "version_major": 2,
       "version_minor": 0
      },
      "text/plain": [
       "Minibatch:   0%|          | 0/4 [00:00<?, ?it/s]"
      ]
     },
     "metadata": {},
     "output_type": "display_data"
    },
    {
     "data": {
      "application/vnd.jupyter.widget-view+json": {
       "model_id": "6d54bdbc6c4f4a59aa223b859b7f4013",
       "version_major": 2,
       "version_minor": 0
      },
      "text/plain": [
       "Minibatch:   0%|          | 0/4 [00:00<?, ?it/s]"
      ]
     },
     "metadata": {},
     "output_type": "display_data"
    },
    {
     "data": {
      "application/vnd.jupyter.widget-view+json": {
       "model_id": "3490e5413e86495e991096229dc96c9c",
       "version_major": 2,
       "version_minor": 0
      },
      "text/plain": [
       "Minibatch:   0%|          | 0/4 [00:00<?, ?it/s]"
      ]
     },
     "metadata": {},
     "output_type": "display_data"
    },
    {
     "data": {
      "application/vnd.jupyter.widget-view+json": {
       "model_id": "86bb8013199f48beb095e8d9c37d1749",
       "version_major": 2,
       "version_minor": 0
      },
      "text/plain": [
       "Minibatch:   0%|          | 0/4 [00:00<?, ?it/s]"
      ]
     },
     "metadata": {},
     "output_type": "display_data"
    },
    {
     "data": {
      "application/vnd.jupyter.widget-view+json": {
       "model_id": "15d3f888e89a41a8a48b8303b7e08a63",
       "version_major": 2,
       "version_minor": 0
      },
      "text/plain": [
       "Minibatch:   0%|          | 0/4 [00:00<?, ?it/s]"
      ]
     },
     "metadata": {},
     "output_type": "display_data"
    },
    {
     "data": {
      "application/vnd.jupyter.widget-view+json": {
       "model_id": "02d661d5bded48ba804b29e109b3877b",
       "version_major": 2,
       "version_minor": 0
      },
      "text/plain": [
       "Minibatch:   0%|          | 0/4 [00:00<?, ?it/s]"
      ]
     },
     "metadata": {},
     "output_type": "display_data"
    },
    {
     "data": {
      "application/vnd.jupyter.widget-view+json": {
       "model_id": "bb1003d5fc974936ab89ca6035c1243d",
       "version_major": 2,
       "version_minor": 0
      },
      "text/plain": [
       "Minibatch:   0%|          | 0/4 [00:00<?, ?it/s]"
      ]
     },
     "metadata": {},
     "output_type": "display_data"
    },
    {
     "data": {
      "application/vnd.jupyter.widget-view+json": {
       "model_id": "ed84319f6feb4f359f5a593d036efbbf",
       "version_major": 2,
       "version_minor": 0
      },
      "text/plain": [
       "Minibatch:   0%|          | 0/4 [00:00<?, ?it/s]"
      ]
     },
     "metadata": {},
     "output_type": "display_data"
    },
    {
     "data": {
      "application/vnd.jupyter.widget-view+json": {
       "model_id": "c4ac57b0c59a47b8ba851124536f222b",
       "version_major": 2,
       "version_minor": 0
      },
      "text/plain": [
       "Minibatch:   0%|          | 0/4 [00:00<?, ?it/s]"
      ]
     },
     "metadata": {},
     "output_type": "display_data"
    },
    {
     "data": {
      "application/vnd.jupyter.widget-view+json": {
       "model_id": "c7059429555a45f49272972799d014ca",
       "version_major": 2,
       "version_minor": 0
      },
      "text/plain": [
       "Minibatch:   0%|          | 0/4 [00:00<?, ?it/s]"
      ]
     },
     "metadata": {},
     "output_type": "display_data"
    },
    {
     "data": {
      "application/vnd.jupyter.widget-view+json": {
       "model_id": "a82ee96cc8164cb9b0a80de736f2889e",
       "version_major": 2,
       "version_minor": 0
      },
      "text/plain": [
       "Minibatch:   0%|          | 0/4 [00:00<?, ?it/s]"
      ]
     },
     "metadata": {},
     "output_type": "display_data"
    },
    {
     "data": {
      "application/vnd.jupyter.widget-view+json": {
       "model_id": "be898d14da6c4890a327d0b742f9518f",
       "version_major": 2,
       "version_minor": 0
      },
      "text/plain": [
       "Minibatch:   0%|          | 0/4 [00:00<?, ?it/s]"
      ]
     },
     "metadata": {},
     "output_type": "display_data"
    },
    {
     "data": {
      "application/vnd.jupyter.widget-view+json": {
       "model_id": "809930ca93754338aacdbb17f34a282c",
       "version_major": 2,
       "version_minor": 0
      },
      "text/plain": [
       "Minibatch:   0%|          | 0/4 [00:00<?, ?it/s]"
      ]
     },
     "metadata": {},
     "output_type": "display_data"
    },
    {
     "data": {
      "application/vnd.jupyter.widget-view+json": {
       "model_id": "a93a3ff146484c33824ca44cdab7aae6",
       "version_major": 2,
       "version_minor": 0
      },
      "text/plain": [
       "Minibatch:   0%|          | 0/4 [00:00<?, ?it/s]"
      ]
     },
     "metadata": {},
     "output_type": "display_data"
    },
    {
     "data": {
      "application/vnd.jupyter.widget-view+json": {
       "model_id": "18661218a60d4d82aa68ae7cd978372d",
       "version_major": 2,
       "version_minor": 0
      },
      "text/plain": [
       "Minibatch:   0%|          | 0/4 [00:00<?, ?it/s]"
      ]
     },
     "metadata": {},
     "output_type": "display_data"
    },
    {
     "data": {
      "application/vnd.jupyter.widget-view+json": {
       "model_id": "d778346806cb418ca3f3564cc7f5b1bd",
       "version_major": 2,
       "version_minor": 0
      },
      "text/plain": [
       "Minibatch:   0%|          | 0/4 [00:00<?, ?it/s]"
      ]
     },
     "metadata": {},
     "output_type": "display_data"
    },
    {
     "data": {
      "application/vnd.jupyter.widget-view+json": {
       "model_id": "00d3030399a94bac9fe7de25a689ca27",
       "version_major": 2,
       "version_minor": 0
      },
      "text/plain": [
       "Minibatch:   0%|          | 0/4 [00:00<?, ?it/s]"
      ]
     },
     "metadata": {},
     "output_type": "display_data"
    },
    {
     "data": {
      "application/vnd.jupyter.widget-view+json": {
       "model_id": "48e89ec1d65e46e79cc013b4c6d5bc1c",
       "version_major": 2,
       "version_minor": 0
      },
      "text/plain": [
       "Minibatch:   0%|          | 0/4 [00:00<?, ?it/s]"
      ]
     },
     "metadata": {},
     "output_type": "display_data"
    },
    {
     "data": {
      "application/vnd.jupyter.widget-view+json": {
       "model_id": "0b13480cbb4b4046b10c3cc1eb6148d1",
       "version_major": 2,
       "version_minor": 0
      },
      "text/plain": [
       "Minibatch:   0%|          | 0/4 [00:00<?, ?it/s]"
      ]
     },
     "metadata": {},
     "output_type": "display_data"
    },
    {
     "data": {
      "application/vnd.jupyter.widget-view+json": {
       "model_id": "6bc23e254df741a3be74d1e2064d4b45",
       "version_major": 2,
       "version_minor": 0
      },
      "text/plain": [
       "Minibatch:   0%|          | 0/4 [00:00<?, ?it/s]"
      ]
     },
     "metadata": {},
     "output_type": "display_data"
    },
    {
     "data": {
      "application/vnd.jupyter.widget-view+json": {
       "model_id": "c327f4f99040433f83d96e175c848350",
       "version_major": 2,
       "version_minor": 0
      },
      "text/plain": [
       "Minibatch:   0%|          | 0/4 [00:00<?, ?it/s]"
      ]
     },
     "metadata": {},
     "output_type": "display_data"
    },
    {
     "data": {
      "application/vnd.jupyter.widget-view+json": {
       "model_id": "c785278ead3b426bb66e960423ecb808",
       "version_major": 2,
       "version_minor": 0
      },
      "text/plain": [
       "Minibatch:   0%|          | 0/4 [00:00<?, ?it/s]"
      ]
     },
     "metadata": {},
     "output_type": "display_data"
    },
    {
     "data": {
      "application/vnd.jupyter.widget-view+json": {
       "model_id": "2e97e6b11f2f462590cb5c224514dfed",
       "version_major": 2,
       "version_minor": 0
      },
      "text/plain": [
       "Minibatch:   0%|          | 0/4 [00:00<?, ?it/s]"
      ]
     },
     "metadata": {},
     "output_type": "display_data"
    },
    {
     "data": {
      "application/vnd.jupyter.widget-view+json": {
       "model_id": "b645ed3afaf545dc80bb672f14144cfa",
       "version_major": 2,
       "version_minor": 0
      },
      "text/plain": [
       "Minibatch:   0%|          | 0/4 [00:00<?, ?it/s]"
      ]
     },
     "metadata": {},
     "output_type": "display_data"
    },
    {
     "data": {
      "application/vnd.jupyter.widget-view+json": {
       "model_id": "97998e057a6e4f5a8eadfd58517dd356",
       "version_major": 2,
       "version_minor": 0
      },
      "text/plain": [
       "Minibatch:   0%|          | 0/4 [00:00<?, ?it/s]"
      ]
     },
     "metadata": {},
     "output_type": "display_data"
    },
    {
     "data": {
      "application/vnd.jupyter.widget-view+json": {
       "model_id": "4e5e7e83ebc341e8829ca087350f2878",
       "version_major": 2,
       "version_minor": 0
      },
      "text/plain": [
       "Minibatch:   0%|          | 0/4 [00:00<?, ?it/s]"
      ]
     },
     "metadata": {},
     "output_type": "display_data"
    },
    {
     "data": {
      "application/vnd.jupyter.widget-view+json": {
       "model_id": "5aec29fccadc415bac20e5cbcdf934b1",
       "version_major": 2,
       "version_minor": 0
      },
      "text/plain": [
       "Minibatch:   0%|          | 0/4 [00:00<?, ?it/s]"
      ]
     },
     "metadata": {},
     "output_type": "display_data"
    },
    {
     "data": {
      "application/vnd.jupyter.widget-view+json": {
       "model_id": "c04106620288403db83f114416dce4fa",
       "version_major": 2,
       "version_minor": 0
      },
      "text/plain": [
       "Minibatch:   0%|          | 0/4 [00:00<?, ?it/s]"
      ]
     },
     "metadata": {},
     "output_type": "display_data"
    },
    {
     "data": {
      "application/vnd.jupyter.widget-view+json": {
       "model_id": "06294a7f02f84fb1b58eb88dcaea3335",
       "version_major": 2,
       "version_minor": 0
      },
      "text/plain": [
       "Minibatch:   0%|          | 0/4 [00:00<?, ?it/s]"
      ]
     },
     "metadata": {},
     "output_type": "display_data"
    },
    {
     "data": {
      "application/vnd.jupyter.widget-view+json": {
       "model_id": "c4fe8b71fa304848ab62d91fd49b62e3",
       "version_major": 2,
       "version_minor": 0
      },
      "text/plain": [
       "Minibatch:   0%|          | 0/4 [00:00<?, ?it/s]"
      ]
     },
     "metadata": {},
     "output_type": "display_data"
    },
    {
     "data": {
      "application/vnd.jupyter.widget-view+json": {
       "model_id": "d5a46767b59645ff9e266e7c4ae6435e",
       "version_major": 2,
       "version_minor": 0
      },
      "text/plain": [
       "Minibatch:   0%|          | 0/4 [00:00<?, ?it/s]"
      ]
     },
     "metadata": {},
     "output_type": "display_data"
    },
    {
     "data": {
      "application/vnd.jupyter.widget-view+json": {
       "model_id": "2ede2b11110640e3bcf15797de0e0da2",
       "version_major": 2,
       "version_minor": 0
      },
      "text/plain": [
       "Minibatch:   0%|          | 0/4 [00:00<?, ?it/s]"
      ]
     },
     "metadata": {},
     "output_type": "display_data"
    },
    {
     "data": {
      "application/vnd.jupyter.widget-view+json": {
       "model_id": "8826ee8a7f4c43b783b32d23b790db19",
       "version_major": 2,
       "version_minor": 0
      },
      "text/plain": [
       "Minibatch:   0%|          | 0/4 [00:00<?, ?it/s]"
      ]
     },
     "metadata": {},
     "output_type": "display_data"
    },
    {
     "data": {
      "application/vnd.jupyter.widget-view+json": {
       "model_id": "9621be99676b46d9924864c072dd1183",
       "version_major": 2,
       "version_minor": 0
      },
      "text/plain": [
       "Minibatch:   0%|          | 0/4 [00:00<?, ?it/s]"
      ]
     },
     "metadata": {},
     "output_type": "display_data"
    },
    {
     "data": {
      "application/vnd.jupyter.widget-view+json": {
       "model_id": "3e7349512e2647698939c9776792a2cc",
       "version_major": 2,
       "version_minor": 0
      },
      "text/plain": [
       "Minibatch:   0%|          | 0/4 [00:00<?, ?it/s]"
      ]
     },
     "metadata": {},
     "output_type": "display_data"
    },
    {
     "data": {
      "application/vnd.jupyter.widget-view+json": {
       "model_id": "604250634a9d4fa38b06e3f71e4982c8",
       "version_major": 2,
       "version_minor": 0
      },
      "text/plain": [
       "Minibatch:   0%|          | 0/4 [00:00<?, ?it/s]"
      ]
     },
     "metadata": {},
     "output_type": "display_data"
    },
    {
     "data": {
      "application/vnd.jupyter.widget-view+json": {
       "model_id": "52eec05b0ce641119c21db624124e212",
       "version_major": 2,
       "version_minor": 0
      },
      "text/plain": [
       "Minibatch:   0%|          | 0/4 [00:00<?, ?it/s]"
      ]
     },
     "metadata": {},
     "output_type": "display_data"
    },
    {
     "data": {
      "application/vnd.jupyter.widget-view+json": {
       "model_id": "35987911988e49e2ad3e12ea9acfd309",
       "version_major": 2,
       "version_minor": 0
      },
      "text/plain": [
       "Minibatch:   0%|          | 0/4 [00:00<?, ?it/s]"
      ]
     },
     "metadata": {},
     "output_type": "display_data"
    },
    {
     "data": {
      "application/vnd.jupyter.widget-view+json": {
       "model_id": "abc0c40f24ae4aa6ac5c8c4aec920e47",
       "version_major": 2,
       "version_minor": 0
      },
      "text/plain": [
       "Minibatch:   0%|          | 0/4 [00:00<?, ?it/s]"
      ]
     },
     "metadata": {},
     "output_type": "display_data"
    },
    {
     "data": {
      "application/vnd.jupyter.widget-view+json": {
       "model_id": "a5cbff644b444731a4622fc2185335e4",
       "version_major": 2,
       "version_minor": 0
      },
      "text/plain": [
       "Minibatch:   0%|          | 0/4 [00:00<?, ?it/s]"
      ]
     },
     "metadata": {},
     "output_type": "display_data"
    },
    {
     "data": {
      "application/vnd.jupyter.widget-view+json": {
       "model_id": "ccb2c68862424270be6eb3799cadac47",
       "version_major": 2,
       "version_minor": 0
      },
      "text/plain": [
       "Minibatch:   0%|          | 0/4 [00:00<?, ?it/s]"
      ]
     },
     "metadata": {},
     "output_type": "display_data"
    },
    {
     "data": {
      "application/vnd.jupyter.widget-view+json": {
       "model_id": "9d1a3b0286e4449cbe44d801cc5adde1",
       "version_major": 2,
       "version_minor": 0
      },
      "text/plain": [
       "Minibatch:   0%|          | 0/4 [00:00<?, ?it/s]"
      ]
     },
     "metadata": {},
     "output_type": "display_data"
    },
    {
     "data": {
      "application/vnd.jupyter.widget-view+json": {
       "model_id": "c8a4dc9bac204af9b8943ea100c01108",
       "version_major": 2,
       "version_minor": 0
      },
      "text/plain": [
       "Minibatch:   0%|          | 0/4 [00:00<?, ?it/s]"
      ]
     },
     "metadata": {},
     "output_type": "display_data"
    },
    {
     "data": {
      "application/vnd.jupyter.widget-view+json": {
       "model_id": "289fc48789f443759aa437502da1b52f",
       "version_major": 2,
       "version_minor": 0
      },
      "text/plain": [
       "Minibatch:   0%|          | 0/4 [00:00<?, ?it/s]"
      ]
     },
     "metadata": {},
     "output_type": "display_data"
    },
    {
     "data": {
      "application/vnd.jupyter.widget-view+json": {
       "model_id": "a1eefe316d6545488cfe94baac5fa19a",
       "version_major": 2,
       "version_minor": 0
      },
      "text/plain": [
       "Minibatch:   0%|          | 0/4 [00:00<?, ?it/s]"
      ]
     },
     "metadata": {},
     "output_type": "display_data"
    },
    {
     "data": {
      "application/vnd.jupyter.widget-view+json": {
       "model_id": "47bea1333b924649a1fe65860296f433",
       "version_major": 2,
       "version_minor": 0
      },
      "text/plain": [
       "Minibatch:   0%|          | 0/4 [00:00<?, ?it/s]"
      ]
     },
     "metadata": {},
     "output_type": "display_data"
    },
    {
     "data": {
      "application/vnd.jupyter.widget-view+json": {
       "model_id": "9a12593c7119415f937df3e0a3ccc420",
       "version_major": 2,
       "version_minor": 0
      },
      "text/plain": [
       "Minibatch:   0%|          | 0/4 [00:00<?, ?it/s]"
      ]
     },
     "metadata": {},
     "output_type": "display_data"
    },
    {
     "data": {
      "application/vnd.jupyter.widget-view+json": {
       "model_id": "896fa8ddb5694e77a0f965ddc62feebb",
       "version_major": 2,
       "version_minor": 0
      },
      "text/plain": [
       "Minibatch:   0%|          | 0/4 [00:00<?, ?it/s]"
      ]
     },
     "metadata": {},
     "output_type": "display_data"
    },
    {
     "data": {
      "application/vnd.jupyter.widget-view+json": {
       "model_id": "d2f245b24a9341868deaddb8746192cb",
       "version_major": 2,
       "version_minor": 0
      },
      "text/plain": [
       "Minibatch:   0%|          | 0/4 [00:00<?, ?it/s]"
      ]
     },
     "metadata": {},
     "output_type": "display_data"
    },
    {
     "data": {
      "application/vnd.jupyter.widget-view+json": {
       "model_id": "fc61d89b25f54146ba02402103921cd2",
       "version_major": 2,
       "version_minor": 0
      },
      "text/plain": [
       "Minibatch:   0%|          | 0/4 [00:00<?, ?it/s]"
      ]
     },
     "metadata": {},
     "output_type": "display_data"
    },
    {
     "data": {
      "application/vnd.jupyter.widget-view+json": {
       "model_id": "eb4430bb681c44b2ab28af8f8401c6cc",
       "version_major": 2,
       "version_minor": 0
      },
      "text/plain": [
       "Minibatch:   0%|          | 0/4 [00:00<?, ?it/s]"
      ]
     },
     "metadata": {},
     "output_type": "display_data"
    },
    {
     "data": {
      "application/vnd.jupyter.widget-view+json": {
       "model_id": "df7b2aa49d4243b383823d24361129d5",
       "version_major": 2,
       "version_minor": 0
      },
      "text/plain": [
       "Minibatch:   0%|          | 0/4 [00:00<?, ?it/s]"
      ]
     },
     "metadata": {},
     "output_type": "display_data"
    },
    {
     "data": {
      "application/vnd.jupyter.widget-view+json": {
       "model_id": "1b9b000954ce465c8ccfdac2301f9dfc",
       "version_major": 2,
       "version_minor": 0
      },
      "text/plain": [
       "Minibatch:   0%|          | 0/4 [00:00<?, ?it/s]"
      ]
     },
     "metadata": {},
     "output_type": "display_data"
    },
    {
     "data": {
      "application/vnd.jupyter.widget-view+json": {
       "model_id": "c127d5e0b92d4fb182848ccdc6a4912c",
       "version_major": 2,
       "version_minor": 0
      },
      "text/plain": [
       "Minibatch:   0%|          | 0/4 [00:00<?, ?it/s]"
      ]
     },
     "metadata": {},
     "output_type": "display_data"
    },
    {
     "data": {
      "application/vnd.jupyter.widget-view+json": {
       "model_id": "cb6b901b41244a9c9ee9dfe2d8b65e65",
       "version_major": 2,
       "version_minor": 0
      },
      "text/plain": [
       "Minibatch:   0%|          | 0/4 [00:00<?, ?it/s]"
      ]
     },
     "metadata": {},
     "output_type": "display_data"
    },
    {
     "data": {
      "application/vnd.jupyter.widget-view+json": {
       "model_id": "3e1461ffda3f46d1969f2e7efb3555a7",
       "version_major": 2,
       "version_minor": 0
      },
      "text/plain": [
       "Minibatch:   0%|          | 0/4 [00:00<?, ?it/s]"
      ]
     },
     "metadata": {},
     "output_type": "display_data"
    },
    {
     "data": {
      "application/vnd.jupyter.widget-view+json": {
       "model_id": "247b19f6d8894ded9cfbd072e3f642bd",
       "version_major": 2,
       "version_minor": 0
      },
      "text/plain": [
       "Minibatch:   0%|          | 0/4 [00:00<?, ?it/s]"
      ]
     },
     "metadata": {},
     "output_type": "display_data"
    },
    {
     "data": {
      "application/vnd.jupyter.widget-view+json": {
       "model_id": "6f77f9daaf9d46ba9ce2f2def71fb15b",
       "version_major": 2,
       "version_minor": 0
      },
      "text/plain": [
       "Minibatch:   0%|          | 0/4 [00:00<?, ?it/s]"
      ]
     },
     "metadata": {},
     "output_type": "display_data"
    },
    {
     "data": {
      "application/vnd.jupyter.widget-view+json": {
       "model_id": "174ad19e419e44ca8b3fa2a839adea8a",
       "version_major": 2,
       "version_minor": 0
      },
      "text/plain": [
       "Minibatch:   0%|          | 0/4 [00:00<?, ?it/s]"
      ]
     },
     "metadata": {},
     "output_type": "display_data"
    },
    {
     "data": {
      "application/vnd.jupyter.widget-view+json": {
       "model_id": "796424cb173f4b49b3b05fb368f219a9",
       "version_major": 2,
       "version_minor": 0
      },
      "text/plain": [
       "Minibatch:   0%|          | 0/4 [00:00<?, ?it/s]"
      ]
     },
     "metadata": {},
     "output_type": "display_data"
    },
    {
     "data": {
      "application/vnd.jupyter.widget-view+json": {
       "model_id": "1774038d0cfe47268b571b0ab71752ed",
       "version_major": 2,
       "version_minor": 0
      },
      "text/plain": [
       "Minibatch:   0%|          | 0/4 [00:00<?, ?it/s]"
      ]
     },
     "metadata": {},
     "output_type": "display_data"
    },
    {
     "data": {
      "application/vnd.jupyter.widget-view+json": {
       "model_id": "beb27fc051b94ba6b067423e0c93869e",
       "version_major": 2,
       "version_minor": 0
      },
      "text/plain": [
       "Minibatch:   0%|          | 0/4 [00:00<?, ?it/s]"
      ]
     },
     "metadata": {},
     "output_type": "display_data"
    },
    {
     "data": {
      "application/vnd.jupyter.widget-view+json": {
       "model_id": "eba53e1ad7ac4fc3b3ba5109b19cb66f",
       "version_major": 2,
       "version_minor": 0
      },
      "text/plain": [
       "Minibatch:   0%|          | 0/4 [00:00<?, ?it/s]"
      ]
     },
     "metadata": {},
     "output_type": "display_data"
    },
    {
     "data": {
      "application/vnd.jupyter.widget-view+json": {
       "model_id": "1c5e53478d984d62874be02c330607dc",
       "version_major": 2,
       "version_minor": 0
      },
      "text/plain": [
       "Minibatch:   0%|          | 0/4 [00:00<?, ?it/s]"
      ]
     },
     "metadata": {},
     "output_type": "display_data"
    },
    {
     "data": {
      "application/vnd.jupyter.widget-view+json": {
       "model_id": "bd2645c69319424d9b3c6b3dfb542d95",
       "version_major": 2,
       "version_minor": 0
      },
      "text/plain": [
       "Minibatch:   0%|          | 0/4 [00:00<?, ?it/s]"
      ]
     },
     "metadata": {},
     "output_type": "display_data"
    },
    {
     "data": {
      "application/vnd.jupyter.widget-view+json": {
       "model_id": "50e43a825dc844799ebef35e877e3637",
       "version_major": 2,
       "version_minor": 0
      },
      "text/plain": [
       "Minibatch:   0%|          | 0/4 [00:00<?, ?it/s]"
      ]
     },
     "metadata": {},
     "output_type": "display_data"
    },
    {
     "data": {
      "application/vnd.jupyter.widget-view+json": {
       "model_id": "56a88d0f3d21410b8f8517beaa4805b3",
       "version_major": 2,
       "version_minor": 0
      },
      "text/plain": [
       "Minibatch:   0%|          | 0/4 [00:00<?, ?it/s]"
      ]
     },
     "metadata": {},
     "output_type": "display_data"
    },
    {
     "data": {
      "application/vnd.jupyter.widget-view+json": {
       "model_id": "c4d31eb9d47941c68bedfc26153239f1",
       "version_major": 2,
       "version_minor": 0
      },
      "text/plain": [
       "Minibatch:   0%|          | 0/4 [00:00<?, ?it/s]"
      ]
     },
     "metadata": {},
     "output_type": "display_data"
    },
    {
     "data": {
      "application/vnd.jupyter.widget-view+json": {
       "model_id": "b9b816cbcb284ecbba260a1ecd628d16",
       "version_major": 2,
       "version_minor": 0
      },
      "text/plain": [
       "Minibatch:   0%|          | 0/4 [00:00<?, ?it/s]"
      ]
     },
     "metadata": {},
     "output_type": "display_data"
    },
    {
     "data": {
      "application/vnd.jupyter.widget-view+json": {
       "model_id": "09dd7b8d760a4753824f4e22cc86aa4c",
       "version_major": 2,
       "version_minor": 0
      },
      "text/plain": [
       "Minibatch:   0%|          | 0/4 [00:00<?, ?it/s]"
      ]
     },
     "metadata": {},
     "output_type": "display_data"
    },
    {
     "data": {
      "application/vnd.jupyter.widget-view+json": {
       "model_id": "268090bb92ea4f9b8f2a1dd4cbb7c505",
       "version_major": 2,
       "version_minor": 0
      },
      "text/plain": [
       "Minibatch:   0%|          | 0/4 [00:00<?, ?it/s]"
      ]
     },
     "metadata": {},
     "output_type": "display_data"
    },
    {
     "data": {
      "application/vnd.jupyter.widget-view+json": {
       "model_id": "d4762b0cca43450aa5321a99f9eda39d",
       "version_major": 2,
       "version_minor": 0
      },
      "text/plain": [
       "Minibatch:   0%|          | 0/4 [00:00<?, ?it/s]"
      ]
     },
     "metadata": {},
     "output_type": "display_data"
    },
    {
     "data": {
      "application/vnd.jupyter.widget-view+json": {
       "model_id": "602f3c2f1483492c8304327a5090f5cd",
       "version_major": 2,
       "version_minor": 0
      },
      "text/plain": [
       "Minibatch:   0%|          | 0/4 [00:00<?, ?it/s]"
      ]
     },
     "metadata": {},
     "output_type": "display_data"
    },
    {
     "data": {
      "application/vnd.jupyter.widget-view+json": {
       "model_id": "e7f77baacdec4c5883ccbc53b59a91ae",
       "version_major": 2,
       "version_minor": 0
      },
      "text/plain": [
       "Minibatch:   0%|          | 0/4 [00:00<?, ?it/s]"
      ]
     },
     "metadata": {},
     "output_type": "display_data"
    },
    {
     "data": {
      "application/vnd.jupyter.widget-view+json": {
       "model_id": "b11088f3939c4481a6d849b11fafd0e5",
       "version_major": 2,
       "version_minor": 0
      },
      "text/plain": [
       "Minibatch:   0%|          | 0/4 [00:00<?, ?it/s]"
      ]
     },
     "metadata": {},
     "output_type": "display_data"
    },
    {
     "data": {
      "application/vnd.jupyter.widget-view+json": {
       "model_id": "1c052ea7684d469ca623e7490ef46c81",
       "version_major": 2,
       "version_minor": 0
      },
      "text/plain": [
       "Minibatch:   0%|          | 0/4 [00:00<?, ?it/s]"
      ]
     },
     "metadata": {},
     "output_type": "display_data"
    },
    {
     "data": {
      "application/vnd.jupyter.widget-view+json": {
       "model_id": "",
       "version_major": 2,
       "version_minor": 0
      },
      "text/plain": [
       "Minibatch:   0%|          | 0/4 [00:00<?, ?it/s]"
      ]
     },
     "metadata": {},
     "output_type": "display_data"
    },
    {
     "data": {
      "application/vnd.jupyter.widget-view+json": {
       "model_id": "",
       "version_major": 2,
       "version_minor": 0
      },
      "text/plain": [
       "Minibatch:   0%|          | 0/4 [00:00<?, ?it/s]"
      ]
     },
     "metadata": {},
     "output_type": "display_data"
    },
    {
     "name": "stderr",
     "output_type": "stream",
     "text": [
      "C:\\Users\\ozinas\\.conda\\envs\\spyder-cuda\\Lib\\site-packages\\linear_operator\\operators\\_linear_operator.py:2155: NumericalWarning: Runtime Error when computing Cholesky decomposition: Matrix not positive definite after repeatedly adding jitter up to 1.0e-01.. Using symeig method.\n",
      "  warnings.warn(\n"
     ]
    },
    {
     "data": {
      "application/vnd.jupyter.widget-view+json": {
       "model_id": "",
       "version_major": 2,
       "version_minor": 0
      },
      "text/plain": [
       "Minibatch:   0%|          | 0/4 [00:00<?, ?it/s]"
      ]
     },
     "metadata": {},
     "output_type": "display_data"
    },
    {
     "data": {
      "application/vnd.jupyter.widget-view+json": {
       "model_id": "",
       "version_major": 2,
       "version_minor": 0
      },
      "text/plain": [
       "Minibatch:   0%|          | 0/4 [00:00<?, ?it/s]"
      ]
     },
     "metadata": {},
     "output_type": "display_data"
    },
    {
     "data": {
      "application/vnd.jupyter.widget-view+json": {
       "model_id": "",
       "version_major": 2,
       "version_minor": 0
      },
      "text/plain": [
       "Minibatch:   0%|          | 0/4 [00:00<?, ?it/s]"
      ]
     },
     "metadata": {},
     "output_type": "display_data"
    },
    {
     "data": {
      "application/vnd.jupyter.widget-view+json": {
       "model_id": "",
       "version_major": 2,
       "version_minor": 0
      },
      "text/plain": [
       "Minibatch:   0%|          | 0/4 [00:00<?, ?it/s]"
      ]
     },
     "metadata": {},
     "output_type": "display_data"
    },
    {
     "data": {
      "application/vnd.jupyter.widget-view+json": {
       "model_id": "",
       "version_major": 2,
       "version_minor": 0
      },
      "text/plain": [
       "Minibatch:   0%|          | 0/4 [00:00<?, ?it/s]"
      ]
     },
     "metadata": {},
     "output_type": "display_data"
    },
    {
     "data": {
      "application/vnd.jupyter.widget-view+json": {
       "model_id": "",
       "version_major": 2,
       "version_minor": 0
      },
      "text/plain": [
       "Minibatch:   0%|          | 0/4 [00:00<?, ?it/s]"
      ]
     },
     "metadata": {},
     "output_type": "display_data"
    },
    {
     "data": {
      "application/vnd.jupyter.widget-view+json": {
       "model_id": "",
       "version_major": 2,
       "version_minor": 0
      },
      "text/plain": [
       "Minibatch:   0%|          | 0/4 [00:00<?, ?it/s]"
      ]
     },
     "metadata": {},
     "output_type": "display_data"
    },
    {
     "data": {
      "application/vnd.jupyter.widget-view+json": {
       "model_id": "",
       "version_major": 2,
       "version_minor": 0
      },
      "text/plain": [
       "Minibatch:   0%|          | 0/4 [00:00<?, ?it/s]"
      ]
     },
     "metadata": {},
     "output_type": "display_data"
    },
    {
     "data": {
      "application/vnd.jupyter.widget-view+json": {
       "model_id": "",
       "version_major": 2,
       "version_minor": 0
      },
      "text/plain": [
       "Minibatch:   0%|          | 0/4 [00:00<?, ?it/s]"
      ]
     },
     "metadata": {},
     "output_type": "display_data"
    },
    {
     "data": {
      "application/vnd.jupyter.widget-view+json": {
       "model_id": "",
       "version_major": 2,
       "version_minor": 0
      },
      "text/plain": [
       "Minibatch:   0%|          | 0/4 [00:00<?, ?it/s]"
      ]
     },
     "metadata": {},
     "output_type": "display_data"
    },
    {
     "data": {
      "application/vnd.jupyter.widget-view+json": {
       "model_id": "",
       "version_major": 2,
       "version_minor": 0
      },
      "text/plain": [
       "Minibatch:   0%|          | 0/4 [00:00<?, ?it/s]"
      ]
     },
     "metadata": {},
     "output_type": "display_data"
    },
    {
     "data": {
      "application/vnd.jupyter.widget-view+json": {
       "model_id": "",
       "version_major": 2,
       "version_minor": 0
      },
      "text/plain": [
       "Minibatch:   0%|          | 0/4 [00:00<?, ?it/s]"
      ]
     },
     "metadata": {},
     "output_type": "display_data"
    },
    {
     "data": {
      "application/vnd.jupyter.widget-view+json": {
       "model_id": "",
       "version_major": 2,
       "version_minor": 0
      },
      "text/plain": [
       "Minibatch:   0%|          | 0/4 [00:00<?, ?it/s]"
      ]
     },
     "metadata": {},
     "output_type": "display_data"
    },
    {
     "data": {
      "application/vnd.jupyter.widget-view+json": {
       "model_id": "",
       "version_major": 2,
       "version_minor": 0
      },
      "text/plain": [
       "Minibatch:   0%|          | 0/4 [00:00<?, ?it/s]"
      ]
     },
     "metadata": {},
     "output_type": "display_data"
    },
    {
     "data": {
      "application/vnd.jupyter.widget-view+json": {
       "model_id": "",
       "version_major": 2,
       "version_minor": 0
      },
      "text/plain": [
       "Minibatch:   0%|          | 0/4 [00:00<?, ?it/s]"
      ]
     },
     "metadata": {},
     "output_type": "display_data"
    },
    {
     "data": {
      "application/vnd.jupyter.widget-view+json": {
       "model_id": "",
       "version_major": 2,
       "version_minor": 0
      },
      "text/plain": [
       "Minibatch:   0%|          | 0/4 [00:00<?, ?it/s]"
      ]
     },
     "metadata": {},
     "output_type": "display_data"
    },
    {
     "data": {
      "application/vnd.jupyter.widget-view+json": {
       "model_id": "",
       "version_major": 2,
       "version_minor": 0
      },
      "text/plain": [
       "Minibatch:   0%|          | 0/4 [00:00<?, ?it/s]"
      ]
     },
     "metadata": {},
     "output_type": "display_data"
    },
    {
     "data": {
      "application/vnd.jupyter.widget-view+json": {
       "model_id": "",
       "version_major": 2,
       "version_minor": 0
      },
      "text/plain": [
       "Minibatch:   0%|          | 0/4 [00:00<?, ?it/s]"
      ]
     },
     "metadata": {},
     "output_type": "display_data"
    },
    {
     "data": {
      "application/vnd.jupyter.widget-view+json": {
       "model_id": "",
       "version_major": 2,
       "version_minor": 0
      },
      "text/plain": [
       "Minibatch:   0%|          | 0/4 [00:00<?, ?it/s]"
      ]
     },
     "metadata": {},
     "output_type": "display_data"
    },
    {
     "data": {
      "application/vnd.jupyter.widget-view+json": {
       "model_id": "",
       "version_major": 2,
       "version_minor": 0
      },
      "text/plain": [
       "Minibatch:   0%|          | 0/4 [00:00<?, ?it/s]"
      ]
     },
     "metadata": {},
     "output_type": "display_data"
    },
    {
     "data": {
      "application/vnd.jupyter.widget-view+json": {
       "model_id": "",
       "version_major": 2,
       "version_minor": 0
      },
      "text/plain": [
       "Minibatch:   0%|          | 0/4 [00:00<?, ?it/s]"
      ]
     },
     "metadata": {},
     "output_type": "display_data"
    },
    {
     "data": {
      "application/vnd.jupyter.widget-view+json": {
       "model_id": "",
       "version_major": 2,
       "version_minor": 0
      },
      "text/plain": [
       "Minibatch:   0%|          | 0/4 [00:00<?, ?it/s]"
      ]
     },
     "metadata": {},
     "output_type": "display_data"
    },
    {
     "data": {
      "application/vnd.jupyter.widget-view+json": {
       "model_id": "",
       "version_major": 2,
       "version_minor": 0
      },
      "text/plain": [
       "Minibatch:   0%|          | 0/4 [00:00<?, ?it/s]"
      ]
     },
     "metadata": {},
     "output_type": "display_data"
    }
   ],
   "source": [
    "# Train the model\n",
    "\n",
    "hyperparameter_optimizer  = torch.optim.Adam([\n",
    "    {'params': model.parameters()},\n",
    "    {'params': likelihood.parameters()},\n",
    "], lr=0.001)\n",
    "\n",
    "model.train()\n",
    "model.likelihood.train()\n",
    "likelihood.train()\n",
    "\n",
    "#instead of manually adjusting lr, a scheduler can be used e.g., \n",
    "#scheduler = torch.optim.lr_scheduler.MultiStepLR(hyperparameter_optimizer, milestones=[100, 150, 225, 300, 400], gamma=0.5)\n",
    "\n",
    "#-------------------------------------------------------------------------------------------------------------------\n",
    "mll = lambda noise: gpytorch.mlls.PredictiveLogLikelihood(FixedNoiseGaussianLikelihood(noise=noise.squeeze(-1)),\n",
    "                                                             model, num_data=train_y.numel())\n",
    "#-------------------------------------------------------------------------------------------------------------------\n",
    "num_epochs = 200 \n",
    "\n",
    "epochs_iter = tqdm.notebook.tqdm(range(num_epochs), desc=\"Epoch\")\n",
    "loss_curve = []\n",
    "for i in epochs_iter:\n",
    "    minibatch_iter = tqdm.notebook.tqdm(train_loader, desc=\"Minibatch\", leave=False)\n",
    "    loss_sum = 0\n",
    "    for x_batch, i_batch, y_batch, y_var_batch in minibatch_iter:\n",
    "\n",
    "        hyperparameter_optimizer.zero_grad()\n",
    "        output = model(x_batch, task_indices = i_batch)\n",
    "\n",
    "        loss = -mll(y_var_batch)(output, y_batch)\n",
    "        loss_sum += loss\n",
    "        minibatch_iter.set_postfix(loss=loss.item())\n",
    "        loss.backward()\n",
    "        hyperparameter_optimizer.step()\n",
    "    #scheduler.step()   #if a scheduler is used\n",
    "    loss_mean = loss_sum / 4 \n",
    "    loss_curve.append(loss_mean.cpu().detach().numpy())\n",
    "    #epochs_iter.set_postfix(loss_mean=loss_mean.item(), lr = scheduler.get_last_lr())\n",
    "    epochs_iter.set_postfix(loss_mean=loss_mean.item())"
   ]
  },
  {
   "cell_type": "code",
   "execution_count": 26,
   "id": "c994f003-1f4c-45ac-ba47-2ca1e88b2b0c",
   "metadata": {},
   "outputs": [
    {
     "data": {
      "text/plain": [
       "[<matplotlib.lines.Line2D at 0x193aa996c30>]"
      ]
     },
     "execution_count": 26,
     "metadata": {},
     "output_type": "execute_result"
    },
    {
     "data": {
      "image/png": "[encoded data removed]",
      "text/plain": [
       "<Figure size 640x480 with 1 Axes>"
      ]
     },
     "metadata": {},
     "output_type": "display_data"
    }
   ],
   "source": [
    "plt.figure()\n",
    "plt.plot(np.arange(len(loss_curve)),loss_curve)"
   ]
  },
  {
   "cell_type": "code",
   "execution_count": 45,
   "id": "5e48d6a7-c65c-4805-aa3d-0a31cb49da1d",
   "metadata": {},
   "outputs": [
    {
     "data": {
      "text/plain": [
       "[<matplotlib.lines.Line2D at 0x245ef1b4fb0>]"
      ]
     },
     "execution_count": 45,
     "metadata": {},
     "output_type": "execute_result"
    },
    {
     "data": {
      "image/png": "[encoded data removed]",
      "text/plain": [
       "<Figure size 640x480 with 1 Axes>"
      ]
     },
     "metadata": {},
     "output_type": "display_data"
    }
   ],
   "source": [
    "plt.figure()\n",
    "plt.plot(np.arange(len(loss_curve2)),loss_curve2)"
   ]
  },
  {
   "cell_type": "code",
   "execution_count": 47,
   "id": "1505ce3b-a827-4eb3-8350-351076a8f3dc",
   "metadata": {},
   "outputs": [
    {
     "data": {
      "text/plain": [
       "[<matplotlib.lines.Line2D at 0x245f11a4770>]"
      ]
     },
     "execution_count": 47,
     "metadata": {},
     "output_type": "execute_result"
    },
    {
     "data": {
      "image/png": "[encoded data removed]",
      "text/plain": [
       "<Figure size 640x480 with 1 Axes>"
      ]
     },
     "metadata": {},
     "output_type": "display_data"
    }
   ],
   "source": [
    "plt.figure()\n",
    "plt.plot(np.arange(len(loss_curve3)),loss_curve3)"
   ]
  },
  {
   "cell_type": "code",
   "execution_count": 27,
   "id": "05787fb8-bbc5-4ebb-90da-83a5ac0c4dd7",
   "metadata": {},
   "outputs": [
    {
     "data": {
      "text/plain": [
       "[<matplotlib.lines.Line2D at 0x232ba2ef110>]"
      ]
     },
     "execution_count": 27,
     "metadata": {},
     "output_type": "execute_result"
    },
    {
     "data": {
      "image/png": "[encoded data removed]",
      "text/plain": [
       "<Figure size 640x480 with 1 Axes>"
      ]
     },
     "metadata": {},
     "output_type": "display_data"
    }
   ],
   "source": [
    "plt.figure()\n",
    "plt.plot(np.arange(len(loss_curve123)),loss_curve123)"
   ]
  },
  {
   "cell_type": "code",
   "execution_count": 39,
   "id": "f1eaaca3-c7ca-41af-934f-332f06cfd957",
   "metadata": {},
   "outputs": [],
   "source": [
    "# save the trained model\n",
    "\n",
    "#torch.save(model.state_dict(), 'VLMC_strat_Ic-uscs_1500ind_constant.pth')"
   ]
  },
  {
   "cell_type": "code",
   "execution_count": 27,
   "id": "60dc738b-526f-44d9-ab56-fb9dc6e9730c",
   "metadata": {},
   "outputs": [
    {
     "name": "stdout",
     "output_type": "stream",
     "text": [
      "[[-2.7817 2.1914 -0.1622 -0.5616 0.6793 1.4158 1.4473 0.0005]\n",
      " [1.7729 -1.0512 -0.0988 -0.1636 2.8510 0.9727 0.1543 -0.6975]\n",
      " [0.9365 3.2262 0.1011 -0.4239 0.3689 -2.0653 1.9648 -0.0020]\n",
      " [-1.3416 -1.1709 -0.0323 -0.0180 1.8645 -2.3863 0.5033 -0.0006]\n",
      " [0.4996 -0.7733 2.5024 2.4620 -0.2021 0.5445 4.2654 0.0169]\n",
      " [0.8774 0.9131 1.4128 1.7334 2.4717 0.5608 -1.1336 0.5780]]\n"
     ]
    }
   ],
   "source": [
    "arr = model.variational_strategy.lmc_coefficients.cpu().detach().numpy()\n",
    "np.set_printoptions(formatter={'float': lambda x: \"{0:0.4f}\".format(x)})\n",
    "print(arr)"
   ]
  },
  {
   "cell_type": "code",
   "execution_count": 28,
   "id": "23da280a-e063-49f4-af00-18c540d81aba",
   "metadata": {},
   "outputs": [],
   "source": [
    "#model.state_dict()"
   ]
  },
  {
   "cell_type": "markdown",
   "id": "ea90301d-d109-4da6-a782-f9b8dae50b8d",
   "metadata": {},
   "source": [
    "# Predict\n",
    "### 1. 1D (2745 pred points per borehole)\n",
    "### 2. 2D (300 x 500) (Z x X)\n",
    "### 3. 3D (300 x 202 x 100 ) (Z x X x Y)"
   ]
  },
  {
   "cell_type": "markdown",
   "id": "a100db3d-1bb2-42df-bf43-662fed56ee41",
   "metadata": {},
   "source": [
    "from IPython.display import Image\n",
    "![title](site_plan.png)"
   ]
  },
  {
   "cell_type": "code",
   "execution_count": 29,
   "id": "25852ccf-67bd-4f5a-be53-75447a58bf21",
   "metadata": {},
   "outputs": [],
   "source": [
    "# Predictions (at verification boreholes)\n",
    "Dz = np.max(z_mat) \n",
    "\n",
    "# xcoords (BH_9,BH_1,H_5,BH_3) = [55.7300 104.2000 149.7200 192.4700] m\n",
    "# ycoords (BH_9,BH_1,H_5,BH_3) = [16.1100 71.5800 21.6400 70.8200] m\n",
    "\n",
    "x_p_m = np.array([0.27609611, 0.51622492, 0.74173892, 0.95352985])       # the scaled (divided by Dx) locations of the verification boreholes \n",
    "y_p_m = np.array([0.07981174, 0.35461977, 0.10720832, 0.35085459])       # the scaled (divided by Dx) locations of the verification boreholes \n",
    "\n",
    "\n",
    "nv_test = 2745 - int(1.86/0.01) + 1\n",
    "nh_test = (x_p_m).shape[0]\n",
    "n_uscs_samples = 400\n",
    "\n",
    "z_t = np.linspace(0.00, np.max(grid[0].numpy()), nv_test)\n",
    "z_t = np.linspace(0.00, 1, nv_test)\n",
    "\n",
    "x_t = x_p_m\n",
    "y_t = y_p_m\n",
    "\n",
    "n_v = (z_t).shape[0]\n",
    "n_h = (x_t).shape[0]\n",
    "\n",
    "N = n_v * n_h\n",
    "\n",
    "grid_test = [torch.from_numpy(z_t), \n",
    "             torch.from_numpy(x_t), \n",
    "             torch.from_numpy(y_t)]\n",
    "\n",
    "test_zx = gpytorch.utils.grid.create_data_from_grid([grid_test[0], grid_test[1]])\n",
    "test_zy = gpytorch.utils.grid.create_data_from_grid([grid_test[0], grid_test[2]])\n",
    "test_x = torch.stack([test_zx[:,0].view(-1,1), \n",
    "                       test_zx[:,1].view(-1,1), \n",
    "                       test_zy[:,1].view(-1,1)]).squeeze().t().to(train_X)"
   ]
  },
  {
   "cell_type": "code",
   "execution_count": 30,
   "id": "c8d8d801-0774-42e1-919d-2afbdd4e5246",
   "metadata": {},
   "outputs": [
    {
     "name": "stderr",
     "output_type": "stream",
     "text": [
      "C:\\Users\\ozinas\\.conda\\envs\\spyder-cuda\\Lib\\site-packages\\gpytorch\\likelihoods\\gaussian_likelihood.py:300: GPInputWarning: You have passed data through a FixedNoiseGaussianLikelihood that did not match the size of the fixed noise, *and* you did not specify noise. This is treated as a no-op.\n",
      "  warnings.warn(\n"
     ]
    }
   ],
   "source": [
    "test_dataset = TensorDataset(test_x, test_x)\n",
    "test_loader = DataLoader(test_dataset, batch_size=500, shuffle=False)\n",
    "\n",
    "\n",
    "\n",
    "model.eval()\n",
    "likelihood.eval()\n",
    "\n",
    "means = []; lower = []; upper = []\n",
    "probs_batched = []\n",
    "#pred_samples_batched = []\n",
    "with torch.no_grad(), gpytorch.settings.fast_pred_var(True), gpytorch.settings.fast_computations(\n",
    "        covar_root_decomposition=False,  solves=False),\\\n",
    "    gpytorch.settings.use_toeplitz(False):\n",
    "        for x_batch_t,_ in test_loader:\n",
    "            num = len(torch.unique(x_batch_t[:,0]))\n",
    "            predictions = likelihood(model(x_batch_t))\n",
    "            means.append(predictions.mean.cpu())\n",
    "            l, u = predictions.confidence_region()\n",
    "            lower.append(l)\n",
    "            upper.append(u)\n",
    "\n",
    "            samples_uscs = predictions.sample(torch.Size((400,)))\n",
    "            pred_samples_uscs = samples_uscs.exp()[:,..., :len(classes)]    \n",
    "            probs_batched.append((pred_samples_uscs / pred_samples_uscs.sum(-1, keepdim=True)).mean(0))\n"
   ]
  },
  {
   "cell_type": "code",
   "execution_count": 31,
   "id": "19d8dbf2-0e1a-484e-8590-7847e560154f",
   "metadata": {},
   "outputs": [],
   "source": [
    "mean = torch.concat([means[i] for i in range(len(means))], dim=0)\n",
    "lower = torch.concat([lower[i] for i in range(len(lower))], dim=0)\n",
    "upper = torch.concat([upper[i] for i in range(len(upper))], dim=0)\n",
    "probabilities = torch.cat([probs_batched[i] for i in range(len(probs_batched))], dim=0)[:,:len(classes)].reshape(nh_test,nv_test,num_classes).cpu()\n"
   ]
  },
  {
   "cell_type": "code",
   "execution_count": 32,
   "id": "206137ba-9185-488b-b3e2-2136cbb8ab5c",
   "metadata": {},
   "outputs": [],
   "source": [
    "post_mean_ic = mean[..., -1].cpu()  * std_Ic_log + mu_Ic_log         \n",
    "lower_Ic = lower[..., -1].cpu() * std_Ic_log + mu_Ic_log        \n",
    "upper_Ic = upper[..., -1].cpu() * std_Ic_log + mu_Ic_log     "
   ]
  },
  {
   "cell_type": "code",
   "execution_count": 33,
   "id": "eae6014a-95a4-4c42-b67e-efd41f0689ac",
   "metadata": {},
   "outputs": [],
   "source": [
    "# entropy, classification metrics\n",
    "bhs = [\"bh9\", \"bh1\", \"bh5\", \"bh3\"]\n",
    "depth = z_t * (Dz-depth_0) + depth_0      \n",
    "\n",
    "inv_map = {v: k for k, v in mapping.items()}\n",
    "bounds = [1.31, 2.05, 2.6, 2.95, 3.6]\n",
    "depth_max = np.max(depth_points) \n",
    "\n",
    "N = np.array([i for i in range(num_classes)])\n",
    "R = [inv_map[classes[i]] for i in N] \n",
    "\n",
    "def most_probable_uscs(prob, mapping, inv_map):\n",
    "    num_classes = prob.shape[-1]\n",
    "    max_probs = np.zeros(prob.shape[0])\n",
    "    probs_np = prob.cpu().detach()\n",
    "    most_prob_profile = np.zeros(prob.shape[0])\n",
    "    H = np.zeros(prob.shape[0])\n",
    "    for i in range(len(prob)):\n",
    "        max_prob_id = np.argmax(probs_np[i].numpy())\n",
    "        most_prob_profile[i] = (max_prob_id + mapping[R[0]])\n",
    "        max_probs[i] = probs_np[i][max_prob_id]\n",
    "        H[i] = entropy(probs_np[i].numpy(), base = 2) / entropy(np.ones(num_classes) / num_classes , base = 2)\n",
    "    return most_prob_profile, max_probs, H\n",
    "\n",
    "\n",
    "most_prob_profile = np.empty((nh_test, nv_test))\n",
    "max_probs = np.empty((nh_test, nv_test))\n",
    "H = np.empty((nh_test, nv_test))\n",
    "\n",
    "for i, probs in enumerate(probabilities):\n",
    "    most_prob_profile[i], max_probs[i], H[i] = most_probable_uscs(probs, mapping, inv_map)\n"
   ]
  },
  {
   "cell_type": "code",
   "execution_count": 34,
   "id": "9e732405-7c6c-4db6-aa28-b40ec7bad35d",
   "metadata": {},
   "outputs": [],
   "source": [
    "from sklearn.preprocessing import LabelEncoder\n",
    "# from sklearn.metrics import accuracy_score\n",
    "import pandas as pd\n",
    "\n",
    "# classifier\n",
    "def load_data_classes(file):\n",
    "    return np.array(pd.read_excel(glob(\"..\\\\Input\\\\\"+file)[0]),dtype=str)\n",
    "\n",
    "classes_bh_all = load_data_classes(\"bhs_all.xlsx\")\n",
    "# classes_bh_all = load_data_classes(\"bhs_all.xlsx\")\n",
    "\n",
    "label_encoder = LabelEncoder()\n",
    "# Fit the LabelEncoder to the USCS class labels and transform them into categorical variables\n",
    "encoded_classes = label_encoder.fit_transform(classes_bh_all.ravel(order=\"f\")).reshape(classes_bh_all.shape, order = \"f\")\n",
    "or_classes = classes_bh_all[:, [0, 2, 4, 8]]\n",
    "or_classes = classes_bh_all[:, [8, 0, 4, 2]]\n",
    "\n",
    "\n",
    "train_classes_bh = encoded_classes[:, [1, 3, 5, 6, 7]]\n",
    "test_classes_bh = or_classes\n",
    "\n",
    "df_test = pd.DataFrame(test_classes_bh,\n",
    "                       columns = [\"BH_9\", \"BH_1\", \"BH_5\", \"BH_3\"])\n",
    "z_test = z_mat[:,0]\n",
    "df_test[\"z\"] = z_test"
   ]
  },
  {
   "cell_type": "code",
   "execution_count": 35,
   "id": "ccbd20d0-227f-4c7b-b325-3b042e6478c8",
   "metadata": {},
   "outputs": [
    {
     "name": "stderr",
     "output_type": "stream",
     "text": [
      "C:\\Users\\ozinas\\AppData\\Local\\Temp\\ipykernel_6652\\3494112362.py:133: UserWarning: FigureCanvasAgg is non-interactive, and thus cannot be shown\n",
      "  fig.show()\n",
      "C:\\Users\\ozinas\\AppData\\Local\\Temp\\ipykernel_6652\\3494112362.py:133: UserWarning: FigureCanvasAgg is non-interactive, and thus cannot be shown\n",
      "  fig.show()\n",
      "C:\\Users\\ozinas\\AppData\\Local\\Temp\\ipykernel_6652\\3494112362.py:133: UserWarning: FigureCanvasAgg is non-interactive, and thus cannot be shown\n",
      "  fig.show()\n",
      "C:\\Users\\ozinas\\AppData\\Local\\Temp\\ipykernel_6652\\3494112362.py:133: UserWarning: FigureCanvasAgg is non-interactive, and thus cannot be shown\n",
      "  fig.show()\n"
     ]
    },
    {
     "data": {
      "image/png": "[encoded data removed]",
      "text/plain": [
       "<Figure size 705x260 with 5 Axes>"
      ]
     },
     "metadata": {},
     "output_type": "display_data"
    },
    {
     "data": {
      "image/png": "[encoded data removed]",
      "text/plain": [
       "<Figure size 705x260 with 5 Axes>"
      ]
     },
     "metadata": {},
     "output_type": "display_data"
    },
    {
     "data": {
      "image/png": "[encoded data removed]",
      "text/plain": [
       "<Figure size 705x260 with 5 Axes>"
      ]
     },
     "metadata": {},
     "output_type": "display_data"
    },
    {
     "data": {
      "image/png": "[encoded data removed]",
      "text/plain": [
       "<Figure size 705x260 with 5 Axes>"
      ]
     },
     "metadata": {},
     "output_type": "display_data"
    }
   ],
   "source": [
    "# =============================================================================\n",
    "# Plots (1D)\n",
    "# =============================================================================\n",
    "from matplotlib.ticker import AutoMinorLocator\n",
    "\n",
    "hatches=['..','...','','','','','']\n",
    "Rn = ['GW', 'SP', 'SW', 'SM', 'ML', 'OL', 'Pt']  # manual ordering accordieng to soil!\n",
    "indx = []\n",
    "for i,c in enumerate(Rn):\n",
    "    indx.append(R.index(c))\n",
    "    \n",
    "\n",
    "# lithological plots\n",
    "# SEE: https://towardsdatascience.com/displaying-lithology-data-using-python-and-matplotlib-58b4d251ee7a\n",
    "\n",
    "lithology_colors = [(0.9137254901960784, 0.8895686274509804, 0.7843921568627451),      \n",
    "                    (0.9090, 0.75640, 0.4750),              \n",
    "                    (0.7843137254901961, 0.7239215686274509, 0.4835294117647059),\n",
    "                    (0.6980392156862745, 0.6134901960784314, 0.4369411764705882),\n",
    "                    (0.7411764705882353, 0.6687058823529413, 0.6831764705882354),\n",
    "                    (0.5686274509803921, 0.4478431372549019, 0.4219607843137255), \n",
    "                    (0.5660, 0.6740, 0.3880)]\n",
    "\n",
    "\n",
    "lithology_numbers = {'ML': {'name':'ML', 'lith_num':1, 'hatch': hatches[Rn.index(\"ML\")], 'color':lithology_colors[Rn.index(\"ML\")]},\n",
    "                 'SP': {'name':'SP', 'lith_num':2, 'hatch': hatches[Rn.index(\"SP\")], 'color':lithology_colors[Rn.index(\"SP\")]},\n",
    "                 'SW': {'name':'SW', 'lith_num':3, 'hatch': hatches[Rn.index(\"SW\")], 'color':lithology_colors[Rn.index(\"SW\")]},\n",
    "                 'GW': {'name':'GW', 'lith_num':4, 'hatch':hatches[Rn.index(\"GW\")], 'color':lithology_colors[Rn.index(\"GW\")]},\n",
    "                 'SM': {'name':'SM', 'lith_num':5, 'hatch':hatches[Rn.index(\"SM\")], 'color':lithology_colors[Rn.index(\"SM\")]},             \n",
    "                 'Pt': {'name':'Pt', 'lith_num':11, 'hatch':hatches[Rn.index(\"Pt\")], 'color':lithology_colors[Rn.index(\"Pt\")]},\n",
    "                 'OL': {'name':'OL', 'lith_num':12, 'hatch':hatches[Rn.index(\"OL\")], 'color':lithology_colors[Rn.index(\"OL\")]}}\n",
    "\n",
    "# ==============================================================================\n",
    "# Grid plot with most relevant profiles\n",
    "# =============================================================================\n",
    "\n",
    "                            \n",
    "for loc in range(len(bhs)):      \n",
    "    Pr_uscs = probabilities[loc].detach().T[indx]\n",
    "\n",
    "    df = pd.DataFrame(data=max_probs[loc], columns = [\"prob\"])\n",
    "    df[\"class\"] =  most_prob_profile[loc]\n",
    "    df[\"z\"] = np.round(depth, 2)\n",
    "    df[\"x\"] = 2\n",
    "    df[\"H_uscs\"] = H[loc]\n",
    "    df['class'] = df['class'].map(inv_map)                                      \n",
    "                                          \n",
    "    fig = plt.figure(figsize = (7.05, 2.6))\n",
    "\n",
    "    gs = fig.add_gridspec(1, 5, hspace=0, wspace=0.255)\n",
    "    (ax1, ax2, ax3, ax4, ax5) = gs.subplots(sharex='col', sharey='row')\n",
    "    for key in lithology_numbers.keys():\n",
    "        color = lithology_numbers[key]['color']\n",
    "        hatch = lithology_numbers[key]['hatch']\n",
    "        ax2.fill_betweenx(df['z'], 0, 1, where=(df['class']==key),\n",
    "                              facecolor=color, hatch=hatch, label=key)\n",
    "    \n",
    "    for key in lithology_numbers.keys():\n",
    "        color = lithology_numbers[key]['color']\n",
    "        hatch = lithology_numbers[key]['hatch']\n",
    "        ax1.fill_betweenx(df_test[\"z\"], 0, 1, where=(df_test.iloc[:,loc]==key),\n",
    "                             facecolor=color, hatch=hatch, label=key)\n",
    "        \n",
    "    polys = ax3.stackplot(df['z'], Pr_uscs,\n",
    "                 labels=Rn,edgecolors=\"black\", colors = lithology_colors, linewidth=0.6)\n",
    "    xlims = ax3.get_xlim()\n",
    "    xlims = (0, depth_max)\n",
    "    ylims = ax3.get_ylim()\n",
    "    for poly in polys:\n",
    "        for path in poly.get_paths():\n",
    "            path.vertices = path.vertices[:, ::-1]\n",
    "            \n",
    "    for stack, hatch in zip(polys, hatches):\n",
    "        stack.set_hatch(hatch)\n",
    "\n",
    "    ax3.set_xlim(ylims)  # use old y limits\n",
    "    ax3.set_ylim(xlims[::-1])  # use old x limits, reversed\n",
    "\n",
    "    ax4.plot(lower_Ic.exp().squeeze()[loc*nv_test:nv_test*(loc+1)], \n",
    "            df['z'],\n",
    "                      color = \"black\", alpha = 0.1)\n",
    "    ax4.plot(upper_Ic.exp().squeeze()[loc*nv_test:nv_test*(loc+1)], \n",
    "            df['z'],\n",
    "                      color = \"black\", alpha = 0.1)\n",
    "    ax4.fill_betweenx(df['z'], \n",
    "                      lower_Ic.exp().squeeze()[loc*nv_test:nv_test*(loc+1)], \n",
    "                      upper_Ic.exp().squeeze()[loc*nv_test:nv_test*(loc+1)], \n",
    "                      color = \"darkgrey\", alpha = 0.2, label='95% CI')# ax.set_xlim(0,5)\n",
    "    for i, dat in enumerate(data_cpts.T):\n",
    "        if i==0:  \n",
    "            ax4.plot(np.exp(dat), zt*(Dz-1.86)+1.86, '-', \n",
    "                    color = \"lightsteelblue\", linewidth = 0.6) #, label='training data'\n",
    "        else:\n",
    "            ax4.plot(np.exp(dat), zt*(Dz-1.86)+1.86, '-', \n",
    "                    color = \"lightsteelblue\", linewidth = 0.6)       # To plot the traiining data\n",
    "    for xc in bounds:\n",
    "        if xc == bounds[0]:\n",
    "            ax4.axvline(x=xc, linestyle = \"dashed\", color='navy', \n",
    "                    linewidth = 0.5, label = \"SBTn bounds\")\n",
    "        else:\n",
    "            ax4.axvline(x=xc, linestyle = \"dashed\", color='navy', \n",
    "                    linewidth = 0.5)\n",
    "            \n",
    "    ax4.plot(post_mean_ic.exp()[loc*nv_test:nv_test*(loc+1)], \n",
    "            df['z'], \n",
    "            '-', color='firebrick', linewidth = 1.1, label='median')        \n",
    "    ax5.plot(H[loc], df['z'], color = \"black\")\n",
    "    ax5.set_xlim(0,1)\n",
    "    ax3.set_xlim(0,1)\n",
    "    ax4.set_xlim(0,6.0)\n",
    "\n",
    "    ax4.set_xlabel(r'$I_c$')\n",
    "    ax4.legend(bbox_to_anchor=(2.42, 1.12), ncol=3, fontsize = 7, handletextpad=0.2, columnspacing=0.9)\n",
    "\n",
    "    ax1.set_xlabel(\"observed\")\n",
    "    ax1.set_ylabel(\"Z [m]\")\n",
    "    ax2.set_xlabel(\"most probable\")\n",
    "    ax3.set_xlabel(\"probability\")\n",
    "    ax5.set_xlabel(\"Entropy\")\n",
    "    ax5.grid(which=\"both\", color=\"darkgrey\", alpha=.3, linewidth=0.25,linestyle=\":\")\n",
    "    ax5.grid(which=\"both\", color=\"darkgrey\", alpha=.3, linewidth=0.25,linestyle=\":\")\n",
    "    ax4.grid(which=\"both\", color=\"darkgrey\", alpha=.3, linewidth=0.25,linestyle=\":\")\n",
    "    ax4.grid(which=\"both\", color=\"darkgrey\", alpha=.3, linewidth=0.25,linestyle=\":\")\n",
    "    ax5.invert_yaxis() \n",
    "    ax4.invert_yaxis() \n",
    "    ax3.invert_yaxis() \n",
    "    ax2.invert_yaxis() \n",
    "    ax2.set_xticks([])  \n",
    "    ax1.set_xticks([])  \n",
    "    ax1.yaxis.set_minor_locator(AutoMinorLocator())\n",
    "    ax1.legend(bbox_to_anchor=(3.5, 1.12), ncol = num_classes, fontsize = 7,handletextpad=0.2, columnspacing=0.9)\n",
    "\n",
    "    fig.show()   "
   ]
  },
  {
   "cell_type": "code",
   "execution_count": 36,
   "id": "02aa6a0f-fcef-43e0-8177-74258dedf3db",
   "metadata": {},
   "outputs": [],
   "source": [
    "encoded_classes = np.array(encoded_classes, dtype = float)\n",
    "encoded_classes[encoded_classes == np.max(encoded_classes)] = np.nan\n",
    "\n",
    "\n",
    "test_classes_bh_num = encoded_classes[:, [8, 0, 4, 2]]\n",
    "y_test = test_classes_bh_num.T.ravel()\n",
    "y_test = y_test[~np.isnan(y_test)]\n",
    "y_vec_test = y_test.astype(int)\n",
    "y_discrete_test = torch.tensor(y_vec_test).long()\n",
    "classes_test = np.unique(y_vec_test)\n",
    "num_classes = len(classes)\n",
    "Y_test = np.zeros((len(y_vec_test), len(classes_test)))\n",
    "#Y_pred = np.zeros((len(y_vec_test), len(classes_test)))\n",
    "\n",
    "for i, e in enumerate(y_vec_test):\n",
    "    # print(i, e)\n",
    "    Y_test[i, np.where(classes_test == e)[0]] = 1\n",
    "    #Y_pred[i, np.where(classes_test == e)[0]] = 1"
   ]
  },
  {
   "cell_type": "code",
   "execution_count": 37,
   "id": "98115e6d-8fe9-498c-a4c8-b04e9849c620",
   "metadata": {},
   "outputs": [],
   "source": [
    "def cross_entropy(targets, predictions,  epsilon=1e-12):\n",
    "    predictions = np.clip(predictions, epsilon, 1. - epsilon)\n",
    "    N = predictions.shape[0]\n",
    "    ce = -np.sum(targets*np.log(predictions+1e-9))/N\n",
    "    return ce"
   ]
  },
  {
   "cell_type": "code",
   "execution_count": 38,
   "id": "19c33e06-1e60-47d2-8f99-db2d854e9dfc",
   "metadata": {},
   "outputs": [
    {
     "name": "stdout",
     "output_type": "stream",
     "text": [
      "test_loc 0\n",
      "cross entropy skl 1.005911990978063\n",
      "cross entropy manual 1.0482303394501902\n",
      "\n",
      "accuracy score:  0.7096060203629925\n",
      "\n",
      "precision score:  0.6971884693542316\n",
      "------------------------------------\n",
      "test_loc 1\n",
      "cross entropy skl 1.2391276240444644\n",
      "cross entropy manual 1.2879266079216662\n",
      "\n",
      "accuracy score:  0.6564573762123532\n",
      "\n",
      "precision score:  0.6660225343437464\n",
      "------------------------------------\n",
      "test_loc 2\n",
      "cross entropy skl 1.0489829668008706\n",
      "cross entropy manual 1.0977819494488532\n",
      "\n",
      "accuracy score:  0.6697294538029607\n",
      "\n",
      "precision score:  0.6385391670312088\n",
      "------------------------------------\n",
      "test_loc 3\n",
      "cross entropy skl 1.222031934714488\n",
      "cross entropy manual 1.2643502837342993\n",
      "\n",
      "accuracy score:  0.6458610004426738\n",
      "\n",
      "precision score:  0.7288233017337927\n",
      "------------------------------------\n",
      "\n",
      "accuracy score total:  0.6709340919867236\n",
      "\n",
      "precision score total:  0.6719979698871377\n",
      "cross entropy skl total 1.12794380934157\n"
     ]
    },
    {
     "data": {
      "text/plain": [
       "<sklearn.metrics._plot.confusion_matrix.ConfusionMatrixDisplay at 0x195599fbcb0>"
      ]
     },
     "execution_count": 38,
     "metadata": {},
     "output_type": "execute_result"
    },
    {
     "data": {
      "image/png": "[encoded data removed]",
      "text/plain": [
       "<Figure size 640x480 with 2 Axes>"
      ]
     },
     "metadata": {},
     "output_type": "display_data"
    },
    {
     "data": {
      "image/png": "[encoded data removed]",
      "text/plain": [
       "<Figure size 640x480 with 2 Axes>"
      ]
     },
     "metadata": {},
     "output_type": "display_data"
    },
    {
     "data": {
      "image/png": "[encoded data removed]",
      "text/plain": [
       "<Figure size 640x480 with 2 Axes>"
      ]
     },
     "metadata": {},
     "output_type": "display_data"
    },
    {
     "data": {
      "image/png": "[encoded data removed]",
      "text/plain": [
       "<Figure size 640x480 with 2 Axes>"
      ]
     },
     "metadata": {},
     "output_type": "display_data"
    },
    {
     "data": {
      "image/png": "[encoded data removed]",
      "text/plain": [
       "<Figure size 640x480 with 2 Axes>"
      ]
     },
     "metadata": {},
     "output_type": "display_data"
    }
   ],
   "source": [
    "# The number of nonnan elements in each testing borehole\n",
    "bhi_test_num_el = (np.ones(4)*len(encoded_classes) - np.isnan(encoded_classes[:, [8, 0, 4, 2]]).sum(axis=0)).astype(int)\n",
    "\n",
    "from sklearn.metrics import confusion_matrix, accuracy_score, ConfusionMatrixDisplay, precision_score, roc_auc_score, log_loss\n",
    "#from gpytorch.metrics import mean_standardized_log_loss\n",
    "\n",
    "\n",
    "\n",
    "from collections import defaultdict\n",
    "dict_metrics_bh = {i: defaultdict(list) for i in range(len(bhs))}\n",
    "\n",
    "y_true=[]; y_pred=[]; targets = []; inputs = []#to test entire set of bhs\n",
    "for loc in range(len(bhs)):   \n",
    "\n",
    "    # dict_metrics_bh[\"z_bh\"].append(df_test[\"z\"][:bhi_test_num_el[loc]])\n",
    "    # dict_metrics_bh[\"y_test_bh\"].append( torch.tensor(Y_test[:bhi_test_num_el[bh_loc], :][np.where(z_bh9>=1.86)] ))\n",
    "    z_bh = df_test[\"z\"][:bhi_test_num_el[loc]]\n",
    "    dict_metrics_bh[loc][\"z_bh\"]=(df_test[\"z\"][:bhi_test_num_el[loc]])\n",
    "    dict_metrics_bh[loc][\"y_test_bh\"]=( torch.tensor(Y_test[:bhi_test_num_el[loc], :][np.where(z_bh>=1.86)] ))\n",
    "\n",
    "   # y_test_cat_bh[y_test_cat_bh==5] = 4\n",
    "    dict_metrics_bh[loc][\"y_test_bh_cat\"]=np.array(encoded_classes[:, [8, 0, 4, 2]][np.where(z_bh>=1.86)] [:, loc], dtype=int)\n",
    "   \n",
    "#     #===========================================\n",
    "#     #merge OL and Pt (only for predictions)\n",
    "    dict_metrics_bh[loc][\"y_test_bh_cat\"][dict_metrics_bh[loc][\"y_test_bh_cat\"]==4] = 5\n",
    "#     #===========================================\n",
    "    pred_probs_bh =  probabilities[loc][np.where(depth<=max(z_bh))]\n",
    "    z_bh = z_bh[z_bh>=1.86]\n",
    "\n",
    "    #dict_metrics_bh[loc][\"pred_probs_bh\"] = probabilities[loc][np.where(depth<=max(z_bh))]\n",
    "    pred_probs_bh = torch.cat([torch.zeros(len(pred_probs_bh), 2), pred_probs_bh], -1).clone().detach().requires_grad_(True)\n",
    "    pred_class = np.array(most_prob_profile[loc][np.where(depth<=max(z_bh))],dtype=int)\n",
    "    dict_metrics_bh[loc][\"pred_probs_bh\"] = pred_probs_bh\n",
    "    dict_metrics_bh[loc][\"pred_class_bh\"] = pred_class\n",
    "\n",
    "    input = dict_metrics_bh[loc][\"pred_probs_bh\"]\n",
    "    target = dict_metrics_bh[loc][\"y_test_bh\"]\n",
    "    \n",
    "    print(\"test_loc\", loc)\n",
    "\n",
    "    targets.append(target.numpy()); inputs.append(input.detach())\n",
    "    print(\"cross entropy skl\", log_loss( target.numpy(), input.detach().numpy()))\n",
    "    print(\"cross entropy manual\", cross_entropy( target.numpy(), input.detach().numpy()))\n",
    "    \n",
    "    print(\"\\naccuracy score: \",  accuracy_score(dict_metrics_bh[loc][\"y_test_bh_cat\"], \n",
    "                                                     dict_metrics_bh[loc][\"pred_class_bh\"]))\n",
    "    \n",
    "    print(\"\\nprecision score: \",  precision_score(dict_metrics_bh[loc][\"y_test_bh_cat\"], \n",
    "                                                     dict_metrics_bh[loc][\"pred_class_bh\"], average = \"weighted\", zero_division = 0.0 ))\n",
    "    \n",
    "    ConfusionMatrixDisplay.from_predictions(dict_metrics_bh[loc][\"y_test_bh_cat\"],\n",
    "                                            dict_metrics_bh[loc][\"pred_class_bh\"],\n",
    "                                           #display_labels=np.sort(pd.Series(dict_metrics_bh[loc][\"y_test_bh_cat\"]).map(inv_map).unique().tolist())     \n",
    "                                           )\n",
    "    \n",
    "    print(\"------------------------------------\")\n",
    "    y_true.append(dict_metrics_bh[loc][\"y_test_bh_cat\"])\n",
    "    y_pred.append(dict_metrics_bh[loc][\"pred_class_bh\"])\n",
    "\n",
    "\n",
    "    \n",
    "print(\"\\naccuracy score total: \",  accuracy_score(np.concatenate(y_true), \n",
    "                                                    np.concatenate(y_pred)\n",
    "                                                  ))\n",
    "print(\"\\nprecision score total: \",  precision_score(np.concatenate(y_true), \n",
    "                                                    np.concatenate(y_pred), \n",
    "                                                  average = \"weighted\", zero_division = 0.0 ))\n",
    "print(\"cross entropy skl total\", log_loss( np.concatenate(targets), np.concatenate(inputs)))\n",
    "\n",
    "ConfusionMatrixDisplay.from_predictions(np.concatenate(y_true),\n",
    "                                        np.concatenate(y_pred),\n",
    "                                        #display_labels=np.sort(pd.Series(dict_metrics_bh[loc][\"y_test_bh_cat\"]).map(inv_map).unique().tolist())     \n",
    "                                        )\n",
    "\n"
   ]
  },
  {
   "cell_type": "markdown",
   "id": "4cbaa0df-ea70-48ac-904a-b96cfecc95cd",
   "metadata": {},
   "source": [
    "### 2D cross cuts A-A and B-B"
   ]
  },
  {
   "cell_type": "code",
   "execution_count": 28,
   "id": "921c803b-4c42-4b68-9a08-fa2ec78a6208",
   "metadata": {},
   "outputs": [
    {
     "name": "stderr",
     "output_type": "stream",
     "text": [
      "C:\\Users\\ozinas\\.conda\\envs\\spyder-cuda\\Lib\\site-packages\\gpytorch\\likelihoods\\gaussian_likelihood.py:300: GPInputWarning: You have passed data through a FixedNoiseGaussianLikelihood that did not match the size of the fixed noise, *and* you did not specify noise. This is treated as a no-op.\n",
      "  warnings.warn(\n",
      "\n",
      "KeyboardInterrupt\n",
      "\n"
     ]
    }
   ],
   "source": [
    "# 2D PLOTS (Boreholes are sorted with respect to x!!) \n",
    "# bh_names = [\"bh9\", \"bh1\", \"bh5\", \"bh3\"]\n",
    "bh_names = [\"bh1\", \"mid\", \"bh3\"]\n",
    "\n",
    "x_p_m = np.array([ [0.27609611, 0.5, 0.95352985])\n",
    "y_p_m = np.array([0.07981174, 0.5,0.35085459])\n",
    "# x_p_m = np.array([0.27609611, 0.51622492, 0.74173892, 0.95352985])       # the scaled (divided by Dx) locations of the verification boreholes \n",
    "# y_p_m = np.array([0.07981174, 0.35461977, 0.10720832, 0.35085459])       # the scaled (divided by Dx) locations of the verification boreholes \n",
    "\n",
    "nx = 5\n",
    "ny = 1\n",
    "nv_test = 300\n",
    "nh_test = nx*ny\n",
    "n_uscs_samples = 300\n",
    "z_t = np.linspace(0, np.max(grid[0].numpy()), nv_test)\n",
    "test_z = torch.linspace(0, np.max(grid[0].numpy()), nv_test)\n",
    "test_xy = torch.from_numpy(np.stack((x_p_m, y_p_m)).T)\n",
    "\n",
    "# =============================================================================\n",
    "# Select which borehole to compute\n",
    "mean_r = {}; H_en = {}; stdev_Ic_lgn = {}; uscs_mp={}; mean_Ic_lgn={} \n",
    "\n",
    "for bh_id in range(len(bh_names)):\n",
    "    #bh_id = 2\n",
    "    \n",
    "    n_points = 500\n",
    "    test_grid_zx_yf_full = gpytorch.utils.grid.create_grid([nv_test, n_points, ny], [(0, np.max(zt)),   \n",
    "                                                                       (0, 1),\n",
    "                                                                      (test_xy[bh_id][1], test_xy[bh_id][1])], \n",
    "                                            extend=False, device=device, dtype=dtype)\n",
    "    \n",
    "    test_zx_yf = gpytorch.utils.grid.create_data_from_grid(test_grid_zx_yf_full)\n",
    "    \n",
    "    test_dataset = TensorDataset(test_zx_yf, test_zx_yf)\n",
    "    test_loader = DataLoader(test_dataset, batch_size=1000, shuffle=False)\n",
    "    \n",
    "    model.eval()\n",
    "    likelihood.eval()\n",
    "    \n",
    "    means = []; lower = []; upper = []; std = []\n",
    "    probs_batched = []\n",
    "    with torch.no_grad(), gpytorch.settings.fast_pred_var(True), gpytorch.settings.fast_computations(\n",
    "            covar_root_decomposition=False,  solves=False),\\\n",
    "        gpytorch.settings.use_toeplitz(False):\n",
    "            for x_batch_t,_ in test_loader:\n",
    "                num = len(torch.unique(x_batch_t[:,0]))\n",
    "                #predictions = likelihood(model(x_batch_t, output_indices=[len(classes)]))\n",
    "                predictions = likelihood(model(x_batch_t))\n",
    "                means.append(predictions.mean.cpu())\n",
    "                l, u = predictions.confidence_region()\n",
    "                lower.append(l)\n",
    "                upper.append(u)\n",
    "                std.append(predictions.variance.sqrt().cpu())\n",
    "                samples_uscs = predictions.sample(torch.Size((400,)))\n",
    "                pred_samples_uscs = samples_uscs.exp()[:,..., :len(classes)]  \n",
    "                probs_batched.append((pred_samples_uscs / pred_samples_uscs.sum(-1, keepdim=True)).mean(0))\n",
    "                \n",
    "    mean = torch.concat([means[i] for i in range(len(means))], dim=0)\n",
    "    lower = torch.concat([lower[i] for i in range(len(lower))], dim=0)\n",
    "    upper = torch.concat([upper[i] for i in range(len(upper))], dim=0)\n",
    "    probabilities = torch.concat([probs_batched[i] for i in range(len(probs_batched))], dim=0)[:,:len(classes)]\n",
    "    post_mean_ic = (mean[..., -1].cpu()  * std_Ic_log + mu_Ic_log)   \n",
    "\n",
    "    \n",
    "    stdev_logIc_u = torch.concat([std[i] for i in range(len(std))], dim=0).cpu()[:, -1]\n",
    "    stdev_logIc_n = torch.sqrt(std_Ic_log**2 * stdev_logIc_u**2)\n",
    "    stdev_Ic_lgn[bh_names[bh_id]] = (torch.exp(post_mean_ic + stdev_logIc_n**2 / 2) * torch.sqrt(torch.exp(stdev_logIc_n**2) - 1)).reshape(n_points, nv_test).T\n",
    "\n",
    "    mean_Ic_lgn[bh_names[bh_id]] = torch.exp(post_mean_ic.reshape(n_points, nv_test).T + stdev_Ic_lgn[bh_names[bh_id]]**2 / 2)        \n",
    "    most_prob_profile, max_probs, H = most_probable_uscs(probabilities, mapping, inv_map)\n",
    "    uscs_mp[bh_names[bh_id]] = most_prob_profile.reshape(n_points, nv_test).T\n",
    "    H_en[bh_names[bh_id]] = H.reshape(n_points, nv_test).T\n",
    "    mean_r[bh_names[bh_id]] = post_mean_ic.reshape(n_points, nv_test).T.exp()\n",
    "\n"
   ]
  },
  {
   "cell_type": "code",
   "execution_count": null,
   "id": "d0f19a4d-fb35-4086-9d66-c0d4e6f17558",
   "metadata": {},
   "outputs": [],
   "source": [
    "from matplotlib.colors import BoundaryNorm\n",
    "from matplotlib.ticker import MaxNLocator\n",
    "from matplotlib.colors import ListedColormap, LinearSegmentedColormap\n",
    "Dx = np.max(xy_sorted[:,0]) - np.min(xy_sorted[:,0])\n",
    "Dy = np.max(xy_sorted[:,1]) - np.min(xy_sorted[:,1])\n",
    "\n",
    "\n",
    "names_uscs = [\"GW\",\n",
    "              \"ML\",\n",
    "              \"OL\",\n",
    "              \"Pt\",\n",
    "              \"SM\",\n",
    "              \"SP\",\n",
    "              \"SW\"]\n",
    "\n",
    "newcmp = ListedColormap(lithology_colors)\n",
    "cmap = newcmp\n",
    "\n",
    "hatches=['.','...','','','','','']\n",
    "Rn = ['GW', 'SP', 'SW', 'SM', 'ML', 'OL', 'Pt']  # manual ordering accordieng to soil!\n",
    "indx = []\n",
    "for i,c in enumerate(Rn):\n",
    "    indx.append(R.index(c))\n",
    "\n",
    "# lithological plots\n",
    "# SEE: https://towardsdatascience.com/displaying-lithology-data-using-python-and-matplotlib-58b4d251ee7a\n",
    "\n",
    "uscs_colors = [(0.9137254901960784, 0.8895686274509804, 0.7843921568627451),      \n",
    "          (0.9090, 0.75640, 0.4750),              \n",
    "          (0.7843137254901961, 0.7239215686274509, 0.4835294117647059),\n",
    "          (0.6980392156862745, 0.6134901960784314, 0.4369411764705882),\n",
    "          (0.7411764705882353, 0.6687058823529413, 0.6831764705882354),\n",
    "          (0.5686274509803921, 0.4478431372549019, 0.4219607843137255), \n",
    "          (0.5660, 0.6740, 0.3880)]\n",
    "\n",
    "\n",
    "uscs_colors = [uscs_colors[0], \n",
    "                    uscs_colors[4],\n",
    "                    uscs_colors[5],\n",
    "                    uscs_colors[6],\n",
    "                    uscs_colors[3],\n",
    "                    uscs_colors[1],\n",
    "                    uscs_colors[2] ]\n",
    "\n",
    "\n",
    "hatches = [hatches[0], \n",
    "                    hatches[4],\n",
    "                    hatches[5],\n",
    "                    hatches[6],\n",
    "                    hatches[3],\n",
    "                    hatches[1],\n",
    "                    hatches[2] ]\n",
    "names_uscs = [\"GW\",\n",
    "              \"ML\",\n",
    "              \"OL\",\n",
    "              \"Pt\",\n",
    "              \"SM\",\n",
    "              \"SP\",\n",
    "              \"SW\"]\n",
    "\n",
    "\n",
    "\n",
    "lithology_numbers = {'ML': {'name':'ML', 'lith_num':1, 'hatch': hatches[Rn.index(\"ML\")], 'color':uscs_colors[Rn.index(\"ML\")]},\n",
    "                 'SP': {'name':'SP', 'lith_num':2, 'hatch': hatches[Rn.index(\"SP\")], 'color':uscs_colors[Rn.index(\"SP\")]},\n",
    "                 'SW': {'name':'SW', 'lith_num':3, 'hatch': hatches[Rn.index(\"SW\")], 'color':uscs_colors[Rn.index(\"SW\")]},\n",
    "                 'GW': {'name':'GW', 'lith_num':4, 'hatch':hatches[Rn.index(\"GW\")], 'color':uscs_colors[Rn.index(\"GW\")]},\n",
    "                 'SM': {'name':'SM', 'lith_num':5, 'hatch':hatches[Rn.index(\"SM\")], 'color':uscs_colors[Rn.index(\"SM\")]},             \n",
    "                 'Pt': {'name':'Pt', 'lith_num':11, 'hatch':hatches[Rn.index(\"Pt\")], 'color':uscs_colors[Rn.index(\"Pt\")]},\n",
    "                 'OL': {'name':'OL', 'lith_num':12, 'hatch':hatches[Rn.index(\"OL\")], 'color':uscs_colors[Rn.index(\"OL\")]}}\n",
    "\n",
    "\n",
    "# Grid plot\n",
    "# loc = 0   #  choose a location\n",
    "# Pr_uscs = probabilities[loc].T[indx]\n",
    "                     \n",
    "# df = pd.Series(data=uscs_mp.ravel())\n",
    "# uscs_mp_map = df.map(inv_map).values.reshape(ny*n_cuts, nv_test, order = \"f\").T                                     \n",
    "                        \n",
    "# =============================================================================\n",
    "# =============================================================================\n",
    "\n",
    "from matplotlib.colors import BoundaryNorm\n",
    "from matplotlib.ticker import MaxNLocator\n",
    "from matplotlib.colors import ListedColormap, LinearSegmentedColormap\n",
    "\n",
    "newcmp = ListedColormap(uscs_colors)\n",
    "cmap = newcmp\n",
    "\n",
    "\n",
    "xx = np.unique(test_grid_zx_yf_full[1].cpu().numpy())\n",
    "#zz = np.linspace(0, np.max(grid[0].numpy()), nv_test)\n",
    "zz = np.linspace(0, np.max(grid[0].numpy()), nv_test) * (np.max(z_mat)-dis_depth / 100) + dis_depth / 100  \n",
    "\n",
    "X, Z = np.meshgrid(xx, zz)"
   ]
  },
  {
   "cell_type": "code",
   "execution_count": null,
   "id": "4ab06074-fe6a-4920-9b2a-1bc185cdca12",
   "metadata": {},
   "outputs": [],
   "source": [
    "# =============================================================================\n",
    "from mpl_toolkits.mplot3d import Axes3D\n",
    "from mpl_toolkits.axes_grid1 import make_axes_locatable\n",
    "# ax = Axes3D(fig, auto_add_to_figure=False)\n",
    "x_scale=4\n",
    "y_scale=8\n",
    "z_scale=3.5\n",
    "scale=np.diag([x_scale, y_scale, z_scale, 1.0])\n",
    "scale=scale*(1.0/scale.max())\n",
    "scale[3,3]=1.0\n",
    "\n",
    "def short_proj():\n",
    "  return np.dot(Axes3D.get_proj(ax), scale)\n",
    "ax.get_proj=short_proj\n",
    "\n",
    "\n",
    "# =============================================================================\n",
    "# GRID plots2\n",
    "# =============================================================================\n",
    "widths = [5.5, 5.5]\n",
    "heights = [5, 5]\n",
    "fig = plt.figure(figsize = (12, 16), constrained_layout=True)\n",
    "gs = fig.add_gridspec(nrows=2, ncols=2, hspace=0, wspace=0.0, width_ratios=widths,\n",
    "                          height_ratios=heights)\n",
    "(ax1, ax2),(ax3, ax4) = gs.subplots(subplot_kw={\"projection\": \"3d\"},\n",
    "                                        # sharex='col', \n",
    "                                        # sharey='row'\n",
    "                                       )\n",
    "\n",
    "x_scale=4.0\n",
    "y_scale=4.8\n",
    "z_scale=2.0\n",
    "scale=np.diag([x_scale, y_scale, z_scale, 1.0])\n",
    "scale=scale*(1.0/scale.max())\n",
    "scale[3,3]=1.0\n",
    "\n",
    "for bh_id in range(len(bh_names)):\n",
    "    ax1.contourf(uscs_mp[bh_names[bh_id]], X*Dx,  Z, levels = [1,2,3,4,5,6,7,8],  zdir='x', offset= y_p_m[bh_id] * Dy,\n",
    "                    cmap=cmap, hatches = hatches)\n",
    "    \n",
    "    ax3.contourf(mean_r[bh_names[bh_id]], X*Dx, Z, levels = [0.00, 1.31, 2.05, 2.6, 2.95, 3.6, 8], zdir='x', offset= y_p_m[bh_id] * Dy,          \n",
    "                cmap=plt.cm.nipy_spectral)  \n",
    "    \n",
    "    ax2.contourf(H_en[bh_names[bh_id]], X*Dx, Z, levels = 10, zdir='x', offset= y_p_m[bh_id] * Dy,          \n",
    "                cmap=plt.cm.nipy_spectral)  \n",
    "    \n",
    "    ax4.contourf(stdev_Ic_lgn[bh_names[bh_id]], X*Dx, Z, levels = np.linspace(0, 1.1, 11), zdir='x', offset= y_p_m[bh_id] * Dy,          \n",
    "                cmap=plt.cm.nipy_spectral)  \n",
    "     \n",
    "\n",
    "def short_proj():\n",
    "  return np.dot(Axes3D.get_proj(ax), scale)\n",
    "for i,ax in enumerate((ax1, ax2, ax3, ax4)):\n",
    "    ax.get_proj=short_proj\n",
    "    ax.xaxis.pane.fill = False\n",
    "    ax.yaxis.pane.fill = False\n",
    "    ax.zaxis.pane.fill = False\n",
    "    ax.view_init(30, 60, 0)\n",
    "    #ax.set_box_aspect(None, zoom=0.9)\n",
    "    ax.set(ylim=(0, Dx))\n",
    "    ax.set(xlim=(0, Dy))\n",
    "    ax.set_xlabel('Y [m]')\n",
    "    ax.set_ylabel('X [m]')\n",
    "    ax.set_zlabel('Z [m]')\n",
    "\n",
    "\n",
    "# ax1.set_title(\"observed\", fontstyle='italic',fontsize = 14)\n",
    "# ax2.set_title(\"observed\", fontstyle='italic',fontsize = 14)\n",
    "# ax3.set_title(\"observed\", fontstyle='italic',fontsize = 14)\n",
    "# ax4.set_xlabel(\"probability\", fontstyle='italic',fontsize = 14)\n",
    "\n",
    "ax1.invert_zaxis()\n",
    "ax2.invert_zaxis()\n",
    "ax3.invert_zaxis()\n",
    "ax4.invert_zaxis()\n",
    "\n",
    "\n",
    "ax1.invert_xaxis()\n",
    "ax2.invert_xaxis()\n",
    "ax3.invert_xaxis()\n",
    "ax4.invert_xaxis()\n",
    "# plt.savefig(plots_folder+'\\\\2d_slices_grid'+'.svg', \n",
    "#             bbox_inches='tight', dpi=600)\n",
    "fig.show()    \n"
   ]
  },
  {
   "cell_type": "code",
   "execution_count": null,
   "id": "3b236152-d976-4851-b0a5-5bbcad6368dd",
   "metadata": {},
   "outputs": [],
   "source": [
    "Dx = np.max(xy_sorted[:,0]) - np.min(xy_sorted[:,0])\n",
    "Dy = np.max(xy_sorted[:,1]) - np.min(xy_sorted[:,1])"
   ]
  },
  {
   "cell_type": "code",
   "execution_count": null,
   "id": "2f91707b-fafb-44d9-897e-1864eaca0a8c",
   "metadata": {},
   "outputs": [],
   "source": [
    "hatches=['...','.....','','','','','']\n",
    "Rn = ['GW', 'SP', 'SW', 'SM', 'ML', 'OL', 'Pt']  # manual ordering accordieng to soil!\n",
    "indx = []\n",
    "for i,c in enumerate(Rn):\n",
    "    indx.append(R.index(c))\n",
    "\n",
    "# lithological plots\n",
    "# SEE: https://towardsdatascience.com/displaying-lithology-data-using-python-and-matplotlib-58b4d251ee7a\n",
    "\n",
    "uscs_colors = [(0.9137254901960784, 0.8895686274509804, 0.7843921568627451),      \n",
    "          (0.9090, 0.75640, 0.4750),              \n",
    "          (0.7843137254901961, 0.7239215686274509, 0.4835294117647059),\n",
    "          (0.6980392156862745, 0.6134901960784314, 0.4369411764705882),\n",
    "          (0.7411764705882353, 0.6687058823529413, 0.6831764705882354),\n",
    "          (0.5686274509803921, 0.4478431372549019, 0.4219607843137255), \n",
    "          (0.5660, 0.6740, 0.3880)]\n",
    "\n",
    "\n",
    "uscs_colors = [uscs_colors[0], \n",
    "                    uscs_colors[4],\n",
    "                    uscs_colors[5],\n",
    "                    uscs_colors[6],\n",
    "                    uscs_colors[3],\n",
    "                    uscs_colors[1],\n",
    "                    uscs_colors[2] ]\n",
    "\n",
    "\n",
    "hatches = [hatches[0], \n",
    "                    hatches[4],\n",
    "                    hatches[5],\n",
    "                    hatches[6],\n",
    "                    hatches[3],\n",
    "                    hatches[1],\n",
    "                    hatches[2] ]\n",
    "names_uscs = [\"GW\",\n",
    "              \"ML\",\n",
    "              \"OL\",\n",
    "              \"Pt\",\n",
    "              \"SM\",\n",
    "              \"SP\",\n",
    "              \"SW\"]\n",
    "\n",
    "\n",
    "\n",
    "lithology_numbers = {'ML': {'name':'ML', 'lith_num':1, 'hatch': hatches[Rn.index(\"ML\")], 'color':uscs_colors[Rn.index(\"ML\")]},\n",
    "                 'SP': {'name':'SP', 'lith_num':2, 'hatch': hatches[Rn.index(\"SP\")], 'color':uscs_colors[Rn.index(\"SP\")]},\n",
    "                 'SW': {'name':'SW', 'lith_num':3, 'hatch': hatches[Rn.index(\"SW\")], 'color':uscs_colors[Rn.index(\"SW\")]},\n",
    "                 'GW': {'name':'GW', 'lith_num':4, 'hatch':hatches[Rn.index(\"GW\")], 'color':uscs_colors[Rn.index(\"GW\")]},\n",
    "                 'SM': {'name':'SM', 'lith_num':5, 'hatch':hatches[Rn.index(\"SM\")], 'color':uscs_colors[Rn.index(\"SM\")]},             \n",
    "                 'Pt': {'name':'Pt', 'lith_num':11, 'hatch':hatches[Rn.index(\"Pt\")], 'color':uscs_colors[Rn.index(\"Pt\")]},\n",
    "                 'OL': {'name':'OL', 'lith_num':12, 'hatch':hatches[Rn.index(\"OL\")], 'color':uscs_colors[Rn.index(\"OL\")]}}"
   ]
  },
  {
   "cell_type": "code",
   "execution_count": null,
   "id": "3dd5ac47-d4ab-4fe5-8d3a-7637a0430558",
   "metadata": {
    "scrolled": true
   },
   "outputs": [],
   "source": [
    "# =============================================================================\n",
    "\n",
    "newcmp = ListedColormap(uscs_colors)\n",
    "cmap = newcmp\n",
    "\n",
    "# fig, ax2 = plt.subplots(figsize = (10, 5))\n",
    "# # cf = ax2.pcolormesh(X, Z, uscs_mp, cmap = plt.cm.viridis, levels = 7)\n",
    "# cf = ax2.pcolormesh(X, Z, uscs_mp[bh_names[0]], cmap = cmap)\n",
    "# # plt.pcolor(X, Z, uscs_mp, hatch=hatches, alpha=0.)\n",
    "# fig.colorbar(cf, ax=ax2, label = \"uscs\")\n",
    "# # cbar.set_ticklabels(names_uscs)\n",
    "# plt.gca().invert_yaxis()\n",
    "# # plt.savefig(plots_folder+'\\\\pmesh_2d_uscs_yfixed_bh9'+'.png', \n",
    "# #             bbox_inches='tight', dpi=400)\n",
    "# fig.show()\n",
    "# =============================================================================\n",
    "\n",
    "fig, ax2 = plt.subplots(figsize = (4.05, 2.2))\n",
    "\n",
    "cs = ax2.contourf(X*Dx, Z, uscs_mp[bh_names[0]], levels = [1,2,3,4,5,6,7,8], \n",
    "                cmap=cmap, hatches = hatches)\n",
    "\n",
    "for i, c in enumerate(cs.collections):\n",
    "    c.set_edgecolor(\"black\")\n",
    "    c.set_linewidth(0.8)    \n",
    "\n",
    "# create a legend for the contour set\n",
    "artists, labels = cs.legend_elements()\n",
    "# labels = inv_map\n",
    "#ax2.legend(artists, names_uscs, bbox_to_anchor=(0.85, 1.07), ncol = num_classes)\n",
    "plt.gca().invert_yaxis()\n",
    "ax2.set_xlabel('X [m]' ,fontsize = 10)\n",
    "ax2.set_ylabel('Z [m]' ,fontsize = 10)\n",
    "\n",
    "plt.savefig(plots_folder+'\\\\2d_uscs_bh9'+'.svg', \n",
    "            bbox_inches='tight', dpi=600)\n",
    "fig.show()\n"
   ]
  },
  {
   "cell_type": "code",
   "execution_count": null,
   "id": "6b8c5970-23dc-40cb-9e87-849b4435e159",
   "metadata": {},
   "outputs": [],
   "source": [
    "fig, ax = plt.subplots(figsize = (4.05, 2.2))\n",
    "\n",
    "#metric = stdev_Ic_lgn\n",
    "metric = mean_r\n",
    "metric = H_en\n",
    "\n",
    "\n",
    "\n",
    "# C = ax.contourf(X, Z, m_3d[300].T.exp(), 20, cmap=plt.cm.viridis, alpha = 1)\n",
    "# if str(metric) == str(mean_r) or str(metric) == str(upper_Ic) or str(metric) == str(lower_Ic) or str(metric) == str(mean_Ic_lgn)  :\n",
    "#     kw = {\n",
    "#     'levels': [0.00, 1.31, 2.05, 2.6, 2.95, 3.6, 8],\n",
    "#     'cmap': plt.cm.nipy_spectral\n",
    "# }\n",
    "\n",
    "\n",
    "if str(metric) == str(H_en) or str(metric) == str(max_probs) :\n",
    "    kw = {\n",
    "    'vmin': 0,\n",
    "    'vmax': 1,\n",
    "    'levels': np.linspace(0, 1, 11),\n",
    "    'cmap': plt.cm.nipy_spectral\n",
    "}\n",
    "elif str(metric) == str(mean_r) or str(metric) == str(upper_Ic) or str(metric) == str(lower_Ic) or str(metric) == str(mean_Ic_lgn)  :\n",
    "    kw = {\n",
    "    'levels': [0.00, 1.31, 2.05, 2.6, 2.95, 3.6, 8],\n",
    "    'cmap': plt.cm.nipy_spectral\n",
    "}\n",
    "elif str(metric) == str(stdev_Ic_lgn):   \n",
    "    kw = {\n",
    "    'vmin': 0,\n",
    "    'levels': np.linspace(0, 1.1, 11),\n",
    "    'cmap': plt.cm.nipy_spectral\n",
    "}\n",
    "\n",
    "\n",
    "\n",
    "C = ax.contourf(X*Dx, Z, metric[bh_names[0]], **kw)\n",
    "#artists, labels = C.legend_elements()\n",
    "\n",
    "cbar = fig.colorbar(C, location = \"top\", orientation='horizontal', shrink=0.8, aspect = 40)\n",
    "#cbar.set_label(r'$I_{c}$ ',fontsize = 14)\n",
    "#cbar.set_label(r'$\\sigma_{I_c}$' ,fontsize = 10)\n",
    "cbar.set_label('Entropy' ,fontsize = 14)\n",
    "#cbar.set_label('Entropy' ,fontsize = 14)\n",
    "\n",
    "\n",
    "ax.set_xlabel('X [m]' ,fontsize = 10)\n",
    "ax.set_ylabel('Z [m]' ,fontsize = 10)\n",
    "plt.yticks(np.arange(0, max(zz)+1, 5.0))\n",
    "plt.gca().invert_yaxis()\n",
    "# fig.set_figheight(5)\n",
    "# fig.set_figwidth(8)\n",
    "plt.savefig(plots_folder+'\\\\slice_bh9_entropy'+'.svg', bbox_inches='tight', dpi=600)\n",
    "plt.show()"
   ]
  },
  {
   "cell_type": "code",
   "execution_count": null,
   "id": "a7fc8cba-c2dc-41b5-b63b-fff94e925a41",
   "metadata": {},
   "outputs": [],
   "source": [
    "#  FOR 3D PLOT\n",
    "nx = 202\n",
    "ny = 100\n",
    "nz = 300\n",
    "# train_xy = torch.from_numpy(np.vstack((xt, yt)).T).float()\n",
    "test_grid_zx_yf_full = gpytorch.utils.grid.create_grid([nz, nx, ny], [(0, np.max(zt)),    # it breaks exactly at ny=41\n",
    "                                                                   (0, 1),\n",
    "                                                                  (0, 1)], \n",
    "                                        extend=False, device=device, dtype=dtype)\n",
    "test_zx_yf = gpytorch.utils.grid.create_data_from_grid(test_grid_zx_yf_full)\n",
    "test_dataset = TensorDataset(test_zx_yf, test_zx_yf)\n",
    "test_loader = DataLoader(test_dataset, batch_size=1000, shuffle=False)"
   ]
  },
  {
   "cell_type": "code",
   "execution_count": 91,
   "id": "d8699fd1-38fd-4fcb-9c70-9913f5b09a6e",
   "metadata": {},
   "outputs": [],
   "source": [
    "# does it make any approximation ???????????\n",
    "\n",
    "model.eval()\n",
    "#likelihood = FixedNoiseGaussianLikelihood(noise=train_Yvar.squeeze(-1)).to(device)\n",
    "likelihood.eval()\n",
    "\n",
    "means = []; lower = []; upper = []; std = []\n",
    "probs_batched = []\n",
    "#pred_samples_batched = []\n",
    "with torch.no_grad(), gpytorch.settings.fast_pred_var(True), gpytorch.settings.fast_computations(\n",
    "        covar_root_decomposition=False,  solves=False),\\\n",
    "    gpytorch.settings.use_toeplitz(False):\n",
    "        for x_batch_t,_ in test_loader:\n",
    "            num = len(torch.unique(x_batch_t[:,0]))\n",
    "            #predictions = likelihood(model(x_batch_t, output_indices=[len(classes)]))\n",
    "            predictive_dist = likelihood(model(x_batch_t))\n",
    "            means.append(predictive_dist.mean.cpu())\n",
    "            l, u = predictive_dist.confidence_region()\n",
    "            lower.append(l)\n",
    "            upper.append(u)\n",
    "            std.append(predictive_dist.variance.sqrt().cpu())\n",
    "            #samples_uscs = model.posterior(x_batch_t, output_indices=[i for i in range(len(classes))]).sample(torch.Size((100,)))\n",
    "            samples_uscs = predictive_dist.sample(torch.Size((400,)))\n",
    "            pred_samples_uscs = samples_uscs.exp()[:,..., :len(classes)]  \n",
    "            #pred_samples_batched.append(pred_samples_uscs)\n",
    "            probs_batched.append((pred_samples_uscs / pred_samples_uscs.sum(-1, keepdim=True)).mean(0))"
   ]
  },
  {
   "cell_type": "code",
   "execution_count": 96,
   "id": "1ac57868-321c-4b39-935e-ec3eaa514f80",
   "metadata": {},
   "outputs": [],
   "source": [
    "# Pickle_file(pickles_folder, \"means_Ic_sbl\", means)\n",
    "# Pickle_file(pickles_folder, \"std_Ic_sbl\", std)\n",
    "# Pickle_file(pickles_folder, \"probs_batched_Ic_sbl\", probs_batched)\n",
    "# Pickle_file(pickles_folder, \"lower_Ic_sbl\", lower)\n",
    "# Pickle_file(pickles_folder, \"upper_Ic_sbl\", upper)\n"
   ]
  },
  {
   "cell_type": "code",
   "execution_count": 97,
   "id": "346b78fd-6aba-4c70-af4c-146d70a4e674",
   "metadata": {},
   "outputs": [],
   "source": [
    "mean = torch.concat([means[i] for i in range(len(means))], dim=0)\n",
    "lower = torch.concat([lower[i] for i in range(len(lower))], dim=0)\n",
    "upper = torch.concat([upper[i] for i in range(len(upper))], dim=0)\n",
    "probabilities = torch.concat([probs_batched[i] for i in range(len(probs_batched))], dim=0)[:,:len(classes)]\n",
    "post_mean_ic = (mean[..., -1].cpu()  * std_Ic_log + mu_Ic_log)   \n",
    "lower_Ic = lower[..., -1].cpu() * std_Ic_log + mu_Ic_log        \n",
    "upper_Ic = upper[..., -1].cpu() * std_Ic_log + mu_Ic_log    \n"
   ]
  },
  {
   "cell_type": "code",
   "execution_count": 232,
   "id": "08daf2c7-fe02-46f3-b6cc-ec1b77608c51",
   "metadata": {},
   "outputs": [],
   "source": [
    "stdev_logIc_u = torch.concat([std[i] for i in range(len(std))], dim=0).cpu()[:, -1]\n",
    "stdev_logIc_n = torch.sqrt(std_Ic_log**2 * stdev_logIc_u**2)\n",
    "\n",
    "stdev_Ic_lgn = (torch.exp(post_mean_ic + stdev_logIc_n**2 / 2) * torch.sqrt(torch.exp(stdev_logIc_n**2) - 1)).reshape(ny, nx, nz)      \n",
    "\n",
    "mean_Ic_lgn = torch.exp(post_mean_ic.reshape(ny, nx, nz) + stdev_Ic_lgn**2 / 2)        \n",
    "lower_N_Ic = lower[:, -1].cpu()*std_Ic_log + mu_Ic_log\n",
    "upper_N_Ic = upper[:, -1].cpu()*std_Ic_log + mu_Ic_log"
   ]
  },
  {
   "cell_type": "code",
   "execution_count": 98,
   "id": "8b41f340-c249-4910-935f-f4584719a686",
   "metadata": {},
   "outputs": [],
   "source": [
    "most_prob_profile, max_probs, H = most_probable_uscs(probabilities, mapping, inv_map)"
   ]
  },
  {
   "cell_type": "code",
   "execution_count": 100,
   "id": "6555f637-5a01-450f-bf66-96ad8b7b335b",
   "metadata": {},
   "outputs": [],
   "source": [
    "uscs_mp = most_prob_profile.reshape(ny, nx, nz)\n",
    "max_probs_3d = max_probs.reshape(ny, nx, nz)\n",
    "H_3d = H.reshape(ny, nx, nz)\n",
    "mean_r = post_mean_ic.reshape(ny, nx, nz).exp()\n",
    "upper_Ic = upper_Ic.reshape(ny, nx, nz).exp()\n",
    "lower_Ic = lower_Ic.reshape(ny, nx, nz).exp()"
   ]
  },
  {
   "cell_type": "code",
   "execution_count": 102,
   "id": "aa6e239a-8d21-4513-bd84-7a8a53f1ae42",
   "metadata": {},
   "outputs": [],
   "source": [
    "xx = np.unique(test_grid_zx_yf_full[1].cpu().numpy())*Dx\n",
    "yy = np.unique(test_grid_zx_yf_full[2].cpu().numpy())*Dy\n",
    "zz = np.linspace(np.min(grid[0].numpy()), np.max(grid[0].numpy()), nz) * (np.max(z_mat)-dis_depth / 100) + dis_depth / 100  \n",
    "\n",
    "X, Y, Z = np.meshgrid(xx, yy, zz)"
   ]
  },
  {
   "cell_type": "code",
   "execution_count": 103,
   "id": "d078a023-7d92-4646-ab37-72aabb44cb2c",
   "metadata": {},
   "outputs": [],
   "source": [
    "# Pickle_file(pickles_folder, \"mean_Ic\", mean_r)\n",
    "# Pickle_file(pickles_folder, \"probabilities_w_Ic\", probabilities)\n",
    "# Pickle_file(pickles_folder, \"uscs_mp_w_Ic\", uscs_mp)\n",
    "# Pickle_file(pickles_folder, \"max_probs_3d_w_Ic\", max_probs_3d)\n",
    "# Pickle_file(pickles_folder, \"lower_Ic\", lower_Ic)\n",
    "# Pickle_file(pickles_folder, \"upper_Ic\", upper_Ic)\n",
    "# Pickle_file(pickles_folder, \"H_3d_w_Ic\", H_3d)"
   ]
  },
  {
   "cell_type": "code",
   "execution_count": 104,
   "id": "83bf88f5-5470-4a57-8125-b8980794e96e",
   "metadata": {},
   "outputs": [],
   "source": [
    "#Unickle_file(pickles_folder, \"probabilities_w_Ic\")\n",
    "\n",
    "# uscs_mp = Unpickle_file(pickles_folder, \"uscs_mp_w_Ic\")\n",
    "# max_probs_3d = Unpickle_file(pickles_folder, \"max_probs_3d_w_Ic\")\n",
    "# H_3d = Unpickle_file(pickles_folder, \"H_3d_w_Ic\")\n",
    "# mean_r = Unpickle_file(pickles_folder, \"mean_Ic\")\n",
    "# upper_Ic = Unpickle_file(pickles_folder, \"upper_Ic\").reshape(ny, nx, nz).exp()\n",
    "# lower_Ic = Unpickle_file(pickles_folder, \"lower_Ic\").reshape(ny, nx, nz).exp()\n"
   ]
  },
  {
   "cell_type": "code",
   "execution_count": 113,
   "id": "7ce92663-f46f-4209-9f23-de39933a3ba8",
   "metadata": {},
   "outputs": [
    {
     "data": {
      "image/png": "[encoded data removed]",
      "text/plain": [
       "<Figure size 900x900 with 1 Axes>"
      ]
     },
     "metadata": {},
     "output_type": "display_data"
    }
   ],
   "source": [
    "# Create a figure with 3D ax\n",
    "from matplotlib.colors import BoundaryNorm\n",
    "from matplotlib.ticker import MaxNLocator\n",
    "from matplotlib.colors import ListedColormap, LinearSegmentedColormap\n",
    "from mpl_toolkits.mplot3d import Axes3D\n",
    "from mpl_toolkits.axes_grid1 import make_axes_locatable\n",
    "names_uscs = [\"GW\",\n",
    "              \"ML\",\n",
    "              \"OL\",\n",
    "              \"Pt\",\n",
    "              \"SM\",\n",
    "              \"SP\",\n",
    "              \"SW\"]\n",
    "\n",
    "\n",
    "\n",
    "newcmp = ListedColormap(lithology_colors)\n",
    "cmap = newcmp\n",
    "\n",
    "\n",
    "\n",
    "\n",
    "hatches=['.','...','','','','','']\n",
    "Rn = ['GW', 'SP', 'SW', 'SM', 'ML', 'OL', 'Pt']  # manual ordering accordieng to soil!\n",
    "indx = []\n",
    "for i,c in enumerate(Rn):\n",
    "    indx.append(R.index(c))\n",
    "\n",
    "# lithological plots\n",
    "# SEE: https://towardsdatascience.com/displaying-lithology-data-using-python-and-matplotlib-58b4d251ee7a\n",
    "\n",
    "uscs_colors = [(0.9137254901960784, 0.8895686274509804, 0.7843921568627451),      \n",
    "          (0.9090, 0.75640, 0.4750),              \n",
    "          (0.7843137254901961, 0.7239215686274509, 0.4835294117647059),\n",
    "          (0.6980392156862745, 0.6134901960784314, 0.4369411764705882),\n",
    "          (0.7411764705882353, 0.6687058823529413, 0.6831764705882354),\n",
    "          (0.5686274509803921, 0.4478431372549019, 0.4219607843137255), \n",
    "          (0.5660, 0.6740, 0.3880)]\n",
    "\n",
    "\n",
    "uscs_colors = [uscs_colors[0], \n",
    "                    uscs_colors[4],\n",
    "                    uscs_colors[5],\n",
    "                    uscs_colors[6],\n",
    "                    uscs_colors[3],\n",
    "                    uscs_colors[1],\n",
    "                    uscs_colors[2] ]\n",
    "\n",
    "\n",
    "hatches = [hatches[0], \n",
    "                    hatches[4],\n",
    "                    hatches[5],\n",
    "                    hatches[6],\n",
    "                    hatches[3],\n",
    "                    hatches[1],\n",
    "                    hatches[2] ]\n",
    "\n",
    "\n",
    "\n",
    "newcmp = ListedColormap(uscs_colors)\n",
    "cmap = newcmp\n",
    "\n",
    "# =============================================================================\n",
    "\n",
    "fig = plt.figure(figsize=(18, 10))\n",
    "ax = fig.add_subplot(111, projection='3d')\n",
    "x_scale=4\n",
    "y_scale=3\n",
    "z_scale=2\n",
    "scale=np.diag([x_scale, y_scale, z_scale, 1.0])\n",
    "scale=scale*(1.0/scale.max())\n",
    "scale[3,3]=1.0\n",
    "\n",
    "def short_proj():\n",
    "  return np.dot(Axes3D.get_proj(ax), scale)\n",
    "ax.get_proj=short_proj\n",
    "\n",
    "# Set limits of the plot from coord limits\n",
    "xmin, xmax = X.min(), X.max()\n",
    "ymin, ymax = Y.min(), Y.max()\n",
    "zmin, zmax = Z.min(), Z.max()\n",
    "ax.set(xlim=[xmin, xmax], ylim=[ymin, ymax], zlim=[zmin, zmax])\n",
    "# Plot contour surfaces\n",
    "_ = ax.contourf(\n",
    "    X[:, :, 0], Y[:, :, 0], uscs_mp[:, :, 0], levels = [1,2,3,4,5,6,7,8],\n",
    "    zdir='z', offset=zmin, cmap=cmap, hatches = hatches\n",
    ")\n",
    "_ = ax.contourf(\n",
    "    X[0, :, :], uscs_mp[0, :, :], Z[0, :, :], levels = [1,2,3,4,5,6,7,8],\n",
    "    zdir='y', offset=0, cmap=cmap, hatches = hatches\n",
    ")\n",
    "C = ax.contourf(\n",
    "    uscs_mp[:, -1, :], Y[:, -1, :], Z[:, -1, :], levels = [1,2,3,4,5,6,7,8],\n",
    "    zdir='x', offset=X.max(), cmap=cmap, hatches = hatches\n",
    ")\n",
    "\n",
    "\n",
    "\n",
    "\n",
    "# _ = ax.contourf(\n",
    "#     X[bh_9_loc_y[0][0], :, :], uscs_mp[bh_9_loc_y[0][0], :, :], Z[bh_9_loc_y[0][0], :, :],\n",
    "#     zdir='y', offset=yy[bh_9_loc_y[0][0]], cmap=cmap, hatches = hatches\n",
    "# )\n",
    "\n",
    "# C = ax.contourf(\n",
    "#     uscs_mp[:, bh_9_loc_x[1][0], :], Y[:, bh_9_loc_x[1][0], :], Z[:, bh_9_loc_x[1][0], :],\n",
    "#     zdir='x', offset=xx[bh_9_loc_x[1][0]], levels = [1,2,3,4,5,6,7,8], cmap=cmap, hatches = hatches\n",
    "# )\n",
    "# --\n",
    "artists, labels = C.legend_elements()\n",
    "\n",
    "\n",
    "\n",
    "# Plot edges\n",
    "edges_kw = dict(color='0.4', linewidth=1, zorder=1e3)\n",
    "ax.plot([xmax, xmax], [ymin, ymax], 0, **edges_kw)\n",
    "ax.plot([xmin, xmax], [ymin, ymin], 0, **edges_kw)\n",
    "ax.plot([xmax, xmax], [ymin, ymin], [zmin, zmax], **edges_kw)\n",
    "\n",
    "# Set labels and zticks\n",
    "ax.set(\n",
    "    xlabel='X [m]',\n",
    "    ylabel='Y [m]',\n",
    "    zlabel='Z [m]',\n",
    "   \n",
    ")\n",
    "\n",
    "# Set zoom and angle view\n",
    "ax.view_init(30, -30, 0)\n",
    "ax.set_box_aspect(None, zoom=0.9)\n",
    "ax.invert_zaxis()\n",
    "ax.legend(artists, names_uscs, bbox_to_anchor=(0.85, 0.92), ncol = num_classes)\n",
    "\n",
    "# Colorbar\n",
    "#fig.colorbar(C, ax=ax, fraction=0.02, pad=0.1, label=r'$I_{c}$ ')\n",
    "plt.savefig(plots_folder+'\\\\3d_uscs_mp_Ic_sbl1'+'.svg', \n",
    "            bbox_inches='tight', dpi=600)\n",
    "# Show Figure\n",
    "plt.show()"
   ]
  },
  {
   "cell_type": "code",
   "execution_count": 244,
   "id": "28eff073-38ec-426e-998d-faa4cd7c544e",
   "metadata": {},
   "outputs": [
    {
     "data": {
      "image/png": "[encoded data removed]",
      "text/plain": [
       "<Figure size 1000x1000 with 2 Axes>"
      ]
     },
     "metadata": {},
     "output_type": "display_data"
    }
   ],
   "source": [
    "from mpl_toolkits.mplot3d import Axes3D\n",
    "from mpl_toolkits.axes_grid1 import make_axes_locatable\n",
    "\n",
    "Dx = np.max(xy_sorted[:,0]) - np.min(xy_sorted[:,0])\n",
    "Dy = np.max(xy_sorted[:,1]) - np.min(xy_sorted[:,1])\n",
    "\n",
    "\n",
    "xx = np.unique(test_grid_zx_yf_full[1].cpu().numpy())*Dx\n",
    "yy = np.unique(test_grid_zx_yf_full[2].cpu().numpy())*Dy\n",
    "zz = np.linspace(np.min(grid[0].numpy()), np.max(grid[0].numpy()), nz) * (np.max(z_mat)-dis_depth / 100) + dis_depth / 100  \n",
    "\n",
    "\n",
    "metric = stdev_Ic_lgn\n",
    "\n",
    "X, Y, Z = np.meshgrid(xx, yy, zz)\n",
    "\n",
    "# Plot\n",
    "\n",
    "if str(metric) == str(H_3d) or str(metric) == str(max_probs_3d) :\n",
    "    kw = {\n",
    "    'vmin': 0,\n",
    "    'vmax': 1,\n",
    "    'levels': np.linspace(0, 1, 11),\n",
    "    'cmap': plt.cm.nipy_spectral\n",
    "}\n",
    "elif str(metric) == str(mean_r) or str(metric) == str(upper_Ic) or str(metric) == str(lower_Ic) or str(metric) == str(mean_Ic_lgn)  :\n",
    "    kw = {\n",
    "    'levels': [0.00, 1.31, 2.05, 2.6, 2.95, 3.6, 8],\n",
    "    'cmap': plt.cm.nipy_spectral\n",
    "}\n",
    "elif str(metric) == str(stdev_Ic_lgn):   \n",
    "    kw = {\n",
    "    'vmin': 0,\n",
    "    'levels': np.linspace(0, 1.1, 11),\n",
    "    'cmap': plt.cm.nipy_spectral\n",
    "}\n",
    "\n",
    "# Create a figure with 3D ax\n",
    "fig = plt.figure(figsize=(10, 10))\n",
    "ax = fig.add_subplot(111, projection='3d')\n",
    "x_scale=4\n",
    "y_scale=3\n",
    "z_scale=2\n",
    "scale=np.diag([x_scale, y_scale, z_scale, 1.0])\n",
    "scale=scale*(1.0/scale.max())\n",
    "scale[3,3]=1.0\n",
    "\n",
    "def short_proj():\n",
    "  return np.dot(Axes3D.get_proj(ax), scale)\n",
    "ax.get_proj=short_proj\n",
    "def short_proj():\n",
    "  return np.dot(Axes3D.get_proj(ax), scale)\n",
    "ax.get_proj=short_proj\n",
    "\n",
    "# Set limits of the plot from coord limits\n",
    "xmin, xmax = X.min(), X.max()\n",
    "ymin, ymax = Y.min(), Y.max()\n",
    "zmin, zmax = Z.min(), Z.max()\n",
    "# Plot contour surfaces\n",
    "_ = ax.contourf(\n",
    "    X[:, :, 0], Y[:, :, 0], metric[:, :, 0],\n",
    "    zdir='z', offset=zmin, **kw\n",
    ")\n",
    "_ = ax.contourf(\n",
    "    X[0, :, :], metric[0, :, :], Z[0, :, :],\n",
    "    zdir='y', offset=0, **kw\n",
    ")\n",
    "C = ax.contourf(\n",
    "    metric[:, -1, :], Y[:, -1, :], Z[:, -1, :],\n",
    "    zdir='x', offset=X.max(), **kw\n",
    ")\n",
    "\n",
    "\n",
    "# Set limits of the plot from coord limits\n",
    "xmin, xmax = X.min(), X.max()\n",
    "ymin, ymax = Y.min(), Y.max()\n",
    "zmin, zmax = Z.min(), Z.max()\n",
    "ax.set(xlim=[xmin, xmax], ylim=[ymin, ymax], zlim=[zmin, zmax])\n",
    "ax.xaxis.pane.fill = False\n",
    "ax.yaxis.pane.fill = False\n",
    "ax.zaxis.pane.fill = False\n",
    "# Plot edges\n",
    "edges_kw = dict(color='0.4', linewidth=1, zorder=1e3)\n",
    "ax.plot([xmax, xmax], [ymin, ymax], 0, **edges_kw)\n",
    "ax.plot([xmin, xmax], [ymin, ymin], 0, **edges_kw)\n",
    "ax.plot([xmax, xmax], [ymin, ymin], [zmin, zmax], **edges_kw)\n",
    "\n",
    "# Set labels and zticks\n",
    "ax.set(\n",
    "    xlabel='X [m]',\n",
    "    ylabel='Y [m]',\n",
    "    zlabel='Z [m]',\n",
    "   \n",
    ")\n",
    "\n",
    "# Set zoom and angle view\n",
    "ax.view_init(30, -30, 0)\n",
    "ax.set_box_aspect(None, zoom=0.9)\n",
    "ax.invert_zaxis()\n",
    "ax.xaxis.pane.fill = False\n",
    "ax.yaxis.pane.fill = False\n",
    "ax.zaxis.pane.fill = False\n",
    "# Colorbar\n",
    "if str(metric) != str(uscs_mp):\n",
    "    if str(metric) == str(mean_r):\n",
    "        fig.colorbar(C, ax=ax, fraction=0.02, pad=0.1, label=r'$m_{I_c}$')\n",
    "        plt.savefig(plots_folder+'\\\\3d_'+\"Ic\"+'.svg', \n",
    "                 bbox_inches='tight', dpi=600)\n",
    "    if str(metric) == str(mean_Ic_lgn):\n",
    "        fig.colorbar(C, ax=ax, fraction=0.02, pad=0.1, label=r'$\\mu_{I_c}$')\n",
    "        plt.savefig(plots_folder+'\\\\3d_'+\"mean_Ic\"+'.svg', \n",
    "                 bbox_inches='tight', dpi=600)\n",
    "    elif str(metric) == str(max_probs_3d):\n",
    "        fig.colorbar(C, ax=ax, fraction=0.02, pad=0.1, label= \"max uscs probabilities\")\n",
    "        plt.savefig(plots_folder+'\\\\3d_'+\"max_prob_w_Ic\"+'.png', \n",
    "                 bbox_inches='tight', dpi=400)\n",
    "    elif str(metric) == str(H_3d):\n",
    "        fig.colorbar(C, ax=ax, fraction=0.02, pad=0.1, label= \"Entropy\")\n",
    "        plt.savefig(plots_folder+'\\\\3d_'+\"H_w_Ic\"+'.svg', \n",
    "                 bbox_inches='tight', dpi=600)\n",
    "    elif str(metric) == str(upper_Ic):\n",
    "        fig.colorbar(C, ax=ax, fraction=0.02, pad=0.1, label= 'upper Ic')\n",
    "        plt.savefig(plots_folder+'\\\\3d_'+\"upper_Ic\"+'.png', \n",
    "                 bbox_inches='tight', dpi=400)\n",
    "    elif str(metric) == str(lower_Ic):\n",
    "        fig.colorbar(C, ax=ax, fraction=0.02, pad=0.1, label= 'lower Ic')\n",
    "        plt.savefig(plots_folder+'\\\\3d_'+\"lower_Ic\"+'.png', \n",
    "                 bbox_inches='tight', dpi=400)\n",
    "    elif str(metric) == str(stdev_Ic_lgn):\n",
    "        fig.colorbar(C, ax=ax, fraction=0.02, pad=0.1, label= r'$\\sigma_{I_c}$')\n",
    "        plt.savefig(plots_folder+'\\\\3d_'+\"stdev_Ic_lgn\"+'.svg', \n",
    "                 bbox_inches='tight', dpi=600)\n",
    "    \n",
    "         \n",
    "    # plt.savefig(plots_folder+'\\\\3d_'+str(metric)+'.png', \n",
    "    #             bbox_inches='tight', dpi=400)\n",
    "# Show Figure\n",
    "plt.show()"
   ]
  }
 ],
 "metadata": {
  "kernelspec": {
   "display_name": "Python 3 (ipykernel)",
   "language": "python",
   "name": "python3"
  },
  "language_info": {
   "codemirror_mode": {
    "name": "ipython",
    "version": 3
   },
   "file_extension": ".py",
   "mimetype": "text/x-python",
   "name": "python",
   "nbconvert_exporter": "python",
   "pygments_lexer": "ipython3",
   "version": "3.12.2"
  }
 },
 "nbformat": 4,
 "nbformat_minor": 5
}
